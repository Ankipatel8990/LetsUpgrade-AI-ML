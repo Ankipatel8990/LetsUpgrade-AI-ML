{
  "nbformat": 4,
  "nbformat_minor": 0,
  "metadata": {
    "kernelspec": {
      "display_name": "Python 3",
      "language": "python",
      "name": "python3"
    },
    "language_info": {
      "codemirror_mode": {
        "name": "ipython",
        "version": 3
      },
      "file_extension": ".py",
      "mimetype": "text/x-python",
      "name": "python",
      "nbconvert_exporter": "python",
      "pygments_lexer": "ipython3",
      "version": "3.7.6"
    },
    "colab": {
      "name": "Day14-15.ipynb",
      "provenance": [],
      "include_colab_link": true
    }
  },
  "cells": [
    {
      "cell_type": "markdown",
      "metadata": {
        "id": "view-in-github",
        "colab_type": "text"
      },
      "source": [
        "<a href=\"https://colab.research.google.com/github/Ankipatel8990/LetsUpgrade-AI-ML/blob/master/Day14_15.ipynb\" target=\"_parent\"><img src=\"https://colab.research.google.com/assets/colab-badge.svg\" alt=\"Open In Colab\"/></a>"
      ]
    },
    {
      "cell_type": "markdown",
      "metadata": {
        "id": "2JwvLqiGUgQg"
      },
      "source": [
        "\r\n",
        "\r\n",
        "---\r\n",
        "\r\n"
      ]
    },
    {
      "cell_type": "markdown",
      "metadata": {
        "id": "iV9nkCXcUgRh"
      },
      "source": [
        "### __Question-1__ Create a 3x3x3 array with random values"
      ]
    },
    {
      "cell_type": "code",
      "metadata": {
        "id": "ECcQ_fniUgRk"
      },
      "source": [
        "import numpy as np #import numpy library\n",
        "#program to create a 3x3x3 array with random values\n",
        "arr = np.random.random((3,3,3)) #creating 3x3x3 array using random function\n",
        "print(arr) #printing the array"
      ],
      "execution_count": null,
      "outputs": []
    },
    {
      "cell_type": "markdown",
      "metadata": {
        "id": "p9i0M_gdUgRn"
      },
      "source": [
        "### __Question-2__ Create a 5x5 matrix with values 1,2,3,4,5 just below the diagonal"
      ]
    },
    {
      "cell_type": "code",
      "metadata": {
        "id": "rMgeUfqjUgRr"
      },
      "source": [
        "#program to create a 5x5 matrix with values 1,2,3,4,5 just below the diagonal\n",
        "arr = np.diag([1,2,3,4,5]) #creating matrix with given diagonal\n",
        "print(arr) #priting the matrix"
      ],
      "execution_count": null,
      "outputs": []
    },
    {
      "cell_type": "markdown",
      "metadata": {
        "id": "vEeODWGsUgRv"
      },
      "source": [
        "### Question-3 Create a 8x8 matrix and fill it with a checkerboard pattern"
      ]
    },
    {
      "cell_type": "code",
      "metadata": {
        "id": "Sj9BElgUUgRx"
      },
      "source": [
        "#program to create a 8x8 matrix and fill it with a checkerboard pattern\n",
        "arr = np.zeros((8,8),dtype=int) #creating the 8x8 array with zeros\n",
        "arr[1::2,::2] = 1 #replacing zero with 1 from 1st,3rd,5th and 7th row with space of 2\n",
        "arr[::2,1::2] = 1 #replacing zero with 1 from 0th,2nd,4th and 6th row with starting space of 2\n",
        "print(arr) #printing the matrix"
      ],
      "execution_count": null,
      "outputs": []
    },
    {
      "cell_type": "markdown",
      "metadata": {
        "id": "Fc7xXgvKUgRz"
      },
      "source": [
        "### Question-4 Normalize a 5x5 random matrix"
      ]
    },
    {
      "cell_type": "code",
      "metadata": {
        "id": "8Kam9LJpUgR3"
      },
      "source": [
        "#program to normalize a 5x5 random matrix\n",
        "arr = np.random.random((5,5))#creating matrix using random function\n",
        "print(\"Original Matrix:\\n\",arr) #printig the original matorix \n",
        "arrmin, arrmax = arr.min(),arr.max() #finding the min and max\n",
        "arr = (arr-arrmin)/(arrmax-arrmin) #operation to make matrix normalized\n",
        "print(\"\\nAfter Normlize:\\n\",arr) #printing the normlize matrix"
      ],
      "execution_count": null,
      "outputs": []
    },
    {
      "cell_type": "markdown",
      "metadata": {
        "id": "_k9y2j5YUgR6"
      },
      "source": [
        "### Question-5 How to find common values between two arrays?"
      ]
    },
    {
      "cell_type": "code",
      "metadata": {
        "id": "-DwQx7pGUgR-"
      },
      "source": [
        "#program to find common values between two arrays\n",
        "arr1 = np.array([10,30,50,60,70]) #creating an array\n",
        "arr2 = np.array([10,50,70]) #areating an array\n",
        "print(\"Original Array 1:\\n\",arr1) #printing the array\n",
        "print(\"\\nOriginal Array 2:\\n\",arr2) #printing the array2\n",
        "arr3 = np.intersect1d(arr1,arr2) #finding the common value using intersect\n",
        "print(\"\\nCommon Values:\\n\",arr3) #printing the array woth comoon values"
      ],
      "execution_count": null,
      "outputs": []
    },
    {
      "cell_type": "markdown",
      "metadata": {
        "id": "_8a49SjAUgSA"
      },
      "source": [
        "### Question-6 How to get the dates of yesterday, today and tomorrow?"
      ]
    },
    {
      "cell_type": "code",
      "metadata": {
        "id": "sFAFokp5UgSC"
      },
      "source": [
        "yesterday = np.datetime64('today') - 1 #get yesterday date using datetime64 function\n",
        "print(\"Yestraday: \",yesterday) #printing yesterday's date\n",
        "today     = np.datetime64('today') #get today daye using datetime64 function\n",
        "print(\"Today: \",today) #printing today's date\n",
        "tomorrow  = np.datetime64('today') + 1 #get tomorrow's date using datetime64 function\n",
        "print(\"Tomorrow: \",tomorrow) #printing tomorrow's date"
      ],
      "execution_count": null,
      "outputs": []
    },
    {
      "cell_type": "markdown",
      "metadata": {
        "id": "TKaIYsiKUgSD"
      },
      "source": [
        "### Question-7 Consider two random array A and B, check if they are equal"
      ]
    },
    {
      "cell_type": "code",
      "metadata": {
        "id": "5hNi0C_GUgSF"
      },
      "source": [
        "arr = np.random.random((3,3)) #creating random array\n",
        "arr2 = np.random.random((3,3)) #creating random array \n",
        "result = np.allclose(arr,arr2) #comparing the two random arrays using allclose method\n",
        "print(\"Both arrays are equal or not:\",result) #printing the reslt after comparision"
      ],
      "execution_count": null,
      "outputs": []
    },
    {
      "cell_type": "markdown",
      "metadata": {
        "id": "d9bhhN0vUgSG"
      },
      "source": [
        "### Question-8 Create random vector of size 10 and replace the maximum value by 0"
      ]
    },
    {
      "cell_type": "code",
      "metadata": {
        "id": "KgwITCLBUgSH"
      },
      "source": [
        "arr = np.random.random(10) #creating random vector size 10\n",
        "print(\"Original Array:\") \n",
        "print(arr,\"\\n\") #printing the original array\n",
        "arr[arr.argmax()] = 0 #replacing the maximum value by 0\n",
        "print(\"After maximum value changed by 0\")\n",
        "print(arr) #printing the array after changing the value"
      ],
      "execution_count": null,
      "outputs": []
    },
    {
      "cell_type": "markdown",
      "metadata": {
        "id": "Qd7UyCNgUgSL"
      },
      "source": [
        "### Question-9 How to print all the values of an array?"
      ]
    },
    {
      "cell_type": "code",
      "metadata": {
        "id": "IDHM9aGGUgSN"
      },
      "source": [
        "arr = np.random.random((3,3)) #creating the random array\n",
        "print(\"All the values of an Array:\\n\",arr) #printing all the values of array"
      ],
      "execution_count": null,
      "outputs": []
    },
    {
      "cell_type": "markdown",
      "metadata": {
        "id": "898ZANf9UgSP"
      },
      "source": [
        "### Question-10 Subtract the mean of each row of a matrix"
      ]
    },
    {
      "cell_type": "code",
      "metadata": {
        "id": "QFeyZO7LUgSQ"
      },
      "source": [
        "print(\"Original matrix:\")\n",
        "arr = np.random.rand(3,3) #creating random matrix\n",
        "print(arr) #printing the original matrix\n",
        "print(\"\\nSubtract the mean of each row of matrix:\") #\n",
        "arr1 = arr - arr.mean() #subtracting mean value with original value\n",
        "print(arr1) #printing the array after opration"
      ],
      "execution_count": null,
      "outputs": []
    },
    {
      "cell_type": "markdown",
      "metadata": {
        "id": "w-MxdOEdUgSR"
      },
      "source": [
        "### Question-11 Consider a given vector, how to add 1 to each element indexed by a second vector (be careful with repeated indices)?"
      ]
    },
    {
      "cell_type": "code",
      "metadata": {
        "id": "1t7nJ9vOUgSS"
      },
      "source": [
        "arr = np.array([1,2,3,4]) + np.array([1,2,3,4]) #adding the two vector\n",
        "print(arr) #priting the result after adding"
      ],
      "execution_count": null,
      "outputs": []
    },
    {
      "cell_type": "markdown",
      "metadata": {
        "id": "1V_QOLRCUgST"
      },
      "source": [
        "### Question-12 How to get the diagonal of a dot product?"
      ]
    },
    {
      "cell_type": "code",
      "metadata": {
        "id": "G72vanRYUgSU"
      },
      "source": [
        "arr = np.array([[1,2],[3,4]])  #creating the 2-D array\n",
        "print(\"Original Array1:\\n\",arr) #printing the array\n",
        "arr1 = np.array([[11,12],[13,14]]) #creating the 2-D array\n",
        "print(\"\\nOriginal Array2:\\n\",b) #printng the array\n",
        "dotab = np.dot(a,b) #applying dot on the two matrix\n",
        "print(\"\\nArray after dot opertaion:\\n\",x) #prinitng result after dot operation \n",
        "print(\"\\nDiagnoal of the dot array of Array1 and Array2:\\n\",np.diagonal(dotab)) #printing the diagonal of dot matrix"
      ],
      "execution_count": null,
      "outputs": []
    },
    {
      "cell_type": "markdown",
      "metadata": {
        "id": "wcJnX9QRUgSV"
      },
      "source": [
        "### Question-13 How to find the most frequent value in an array?"
      ]
    },
    {
      "cell_type": "code",
      "metadata": {
        "id": "1wSe8O8VUgSW"
      },
      "source": [
        "arr = np.random.randint(0,10,6) #creating random array\n",
        "print(\"Original Array:\\n\",arr) #printing the original array\n",
        "mostfrq = np.bincount(arr).argmax() #getting the most frequent value for the array\n",
        "print(mostfrq) #printing the most frequent value of the array"
      ],
      "execution_count": null,
      "outputs": []
    },
    {
      "cell_type": "markdown",
      "metadata": {
        "id": "MmBkIepzUgSY"
      },
      "source": [
        "### Question-14 How to get the n largest values of an array"
      ]
    },
    {
      "cell_type": "code",
      "metadata": {
        "id": "VXLbWHfgUgSb"
      },
      "source": [
        "arr = np.random.randint(0,10,size=(3,3)) #creating the random array\n",
        "print(\"Original Array:\\n\",arr) #printing the original array\n",
        "print(arr.max()) #prinitng the max value out of it"
      ],
      "execution_count": null,
      "outputs": []
    },
    {
      "cell_type": "markdown",
      "metadata": {
        "id": "R2xdRcWgUgSd"
      },
      "source": [
        "### Question-15 How to create a record array from a regular array?"
      ]
    },
    {
      "cell_type": "code",
      "metadata": {
        "id": "kMbUy1gjUgSe"
      },
      "source": [
        "arra1 = np.array([(\"Vaibhav Patel\", 88.5, 90),\n",
        "                 (\"Pankil Desai\", 87, 99),\n",
        "             (\"Rachit Jain\", 85.5, 91)]) #creating regular array\n",
        "print(\"Original array:\\n\",arra1) # printing the original array \n",
        "\n",
        "print(\"\\nRecord array:\")\n",
        "result = np.core.records.fromarrays(arra1.T,\n",
        "                              names='col1, col2, col3',\n",
        "                              formats = 'S80, f8, i8') #creating the record array\n",
        "print(result) #priting the result"
      ],
      "execution_count": null,
      "outputs": []
    }
  ]
}