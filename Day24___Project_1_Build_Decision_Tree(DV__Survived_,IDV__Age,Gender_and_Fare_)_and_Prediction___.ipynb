{
  "nbformat": 4,
  "nbformat_minor": 0,
  "metadata": {
    "kernelspec": {
      "display_name": "Python 3",
      "language": "python",
      "name": "python3"
    },
    "language_info": {
      "codemirror_mode": {
        "name": "ipython",
        "version": 3
      },
      "file_extension": ".py",
      "mimetype": "text/x-python",
      "name": "python",
      "nbconvert_exporter": "python",
      "pygments_lexer": "ipython3",
      "version": "3.7.6"
    },
    "colab": {
      "name": "Day24 _ Project 1 Build Decision Tree(DV-_Survived_,IDV-_Age,Gender and Fare_) and Prediction _ .ipynb",
      "provenance": [],
      "include_colab_link": true
    }
  },
  "cells": [
    {
      "cell_type": "markdown",
      "metadata": {
        "id": "view-in-github",
        "colab_type": "text"
      },
      "source": [
        "<a href=\"https://colab.research.google.com/github/Ankipatel8990/LetsUpgrade-AI-ML/blob/master/Day24___Project_1_Build_Decision_Tree(DV__Survived_%2CIDV__Age%2CGender_and_Fare_)_and_Prediction___.ipynb\" target=\"_parent\"><img src=\"https://colab.research.google.com/assets/colab-badge.svg\" alt=\"Open In Colab\"/></a>"
      ]
    },
    {
      "cell_type": "markdown",
      "metadata": {
        "id": "aYvlYnjRYDX7"
      },
      "source": [
        "# Day24 | Project 1 Build Decision Tree(DV-\"Survived\",IDV-\"Age,Gender and Fare\") and Prediction | "
      ]
    },
    {
      "cell_type": "code",
      "metadata": {
        "id": "6ad2lad7YDYO"
      },
      "source": [
        "import numpy as np \n",
        "import pandas as pd\n",
        "from sklearn import tree\n",
        "from sklearn import preprocessing"
      ],
      "execution_count": null,
      "outputs": []
    },
    {
      "cell_type": "code",
      "metadata": {
        "id": "o0tAU3A6YDYQ"
      },
      "source": [
        "titanic_train = pd.read_csv(\"/Users/VAIBHAV/Vaibhav/Python/LetUpgrade/LetsUpgradeAssignment/Day24/Data/train.csv\")"
      ],
      "execution_count": null,
      "outputs": []
    },
    {
      "cell_type": "code",
      "metadata": {
        "id": "wCcQrNvSYDYR"
      },
      "source": [
        "new_age_var = np.where(titanic_train[\"Age\"].isnull,28,titanic_train[\"Age\"])\n",
        "titanic_train[\"Age\"] = new_age_var"
      ],
      "execution_count": null,
      "outputs": []
    },
    {
      "cell_type": "code",
      "metadata": {
        "id": "A_63-WttYDYS"
      },
      "source": [
        "label_encoder = preprocessing.LabelEncoder()\n",
        "encoded_sex = label_encoder.fit_transform(titanic_train[\"Sex\"])"
      ],
      "execution_count": null,
      "outputs": []
    },
    {
      "cell_type": "code",
      "metadata": {
        "id": "yOk374_UYDYT"
      },
      "source": [
        "tree_model = tree.DecisionTreeClassifier()"
      ],
      "execution_count": null,
      "outputs": []
    },
    {
      "cell_type": "code",
      "metadata": {
        "id": "yNWD1_b9YDYU",
        "outputId": "aa7456f9-1342-4e1e-a3f7-93f2c10a0c31"
      },
      "source": [
        "tree_model.fit(pd.DataFrame(encoded_sex),y=titanic_train[\"Survived\"])"
      ],
      "execution_count": null,
      "outputs": [
        {
          "output_type": "execute_result",
          "data": {
            "text/plain": [
              "DecisionTreeClassifier(ccp_alpha=0.0, class_weight=None, criterion='gini',\n",
              "                       max_depth=None, max_features=None, max_leaf_nodes=None,\n",
              "                       min_impurity_decrease=0.0, min_impurity_split=None,\n",
              "                       min_samples_leaf=1, min_samples_split=2,\n",
              "                       min_weight_fraction_leaf=0.0, presort='deprecated',\n",
              "                       random_state=None, splitter='best')"
            ]
          },
          "metadata": {
            "tags": []
          },
          "execution_count": 41
        }
      ]
    },
    {
      "cell_type": "code",
      "metadata": {
        "id": "TlghxLtdYDYX"
      },
      "source": [
        "with open(\"Dtree1.dot\",'w') as f:\n",
        "    f= tree.export_graphviz(tree_model,feature_names=[\"sex\"],out_file=f);"
      ],
      "execution_count": null,
      "outputs": []
    },
    {
      "cell_type": "code",
      "metadata": {
        "id": "k52KwwAJYDYX"
      },
      "source": [
        "predictors = pd.DataFrame([encoded_sex,titanic_train[\"Age\"],titanic_train[\"Fare\"]]).T"
      ],
      "execution_count": null,
      "outputs": []
    },
    {
      "cell_type": "code",
      "metadata": {
        "id": "kUYYtOyLYDYY",
        "outputId": "7e3e4c7e-c408-4f73-c9c7-6012588196bf"
      },
      "source": [
        "tree_model.fit(predictors,y=titanic_train[\"Survived\"])"
      ],
      "execution_count": null,
      "outputs": [
        {
          "output_type": "execute_result",
          "data": {
            "text/plain": [
              "DecisionTreeClassifier(ccp_alpha=0.0, class_weight=None, criterion='gini',\n",
              "                       max_depth=None, max_features=None, max_leaf_nodes=None,\n",
              "                       min_impurity_decrease=0.0, min_impurity_split=None,\n",
              "                       min_samples_leaf=1, min_samples_split=2,\n",
              "                       min_weight_fraction_leaf=0.0, presort='deprecated',\n",
              "                       random_state=None, splitter='best')"
            ]
          },
          "metadata": {
            "tags": []
          },
          "execution_count": 58
        }
      ]
    },
    {
      "cell_type": "code",
      "metadata": {
        "id": "T5ULLzTqYDYZ"
      },
      "source": [
        "with open(\"Dtree2.dot\",'w') as f:\n",
        "    f = tree.export_graphviz(tree_model,feature_names=[\"Fare\",\"Sex\",\"Age\"],out_file=f);"
      ],
      "execution_count": null,
      "outputs": []
    },
    {
      "cell_type": "code",
      "metadata": {
        "id": "JzKulXiyYDYa",
        "outputId": "a59eafe3-3deb-4110-aad4-4f42bda3db89"
      },
      "source": [
        "tree_model.score(predictors,y=titanic_train[\"Survived\"])"
      ],
      "execution_count": null,
      "outputs": [
        {
          "output_type": "execute_result",
          "data": {
            "text/plain": [
              "0.9021372328458943"
            ]
          },
          "metadata": {
            "tags": []
          },
          "execution_count": 62
        }
      ]
    },
    {
      "cell_type": "code",
      "metadata": {
        "id": "ZthSJayJYDYa"
      },
      "source": [
        "titanic_test = pd.read_csv(\"/Users/VAIBHAV/Vaibhav/Python/LetUpgrade/LetsUpgradeAssignment/Day24/Data/test.csv\")"
      ],
      "execution_count": null,
      "outputs": []
    },
    {
      "cell_type": "code",
      "metadata": {
        "id": "sGDoBlvsYDYb",
        "outputId": "b4c37c14-10b2-4ff0-9f38-f18ca0b8c8ac"
      },
      "source": [
        "titanic_test.isnull().sum()"
      ],
      "execution_count": null,
      "outputs": [
        {
          "output_type": "execute_result",
          "data": {
            "text/plain": [
              "PassengerId    0\n",
              "Pclass         0\n",
              "Name           0\n",
              "Sex            0\n",
              "Age            0\n",
              "SibSp          0\n",
              "Parch          0\n",
              "Ticket         0\n",
              "Fare           0\n",
              "Embarked       0\n",
              "dtype: int64"
            ]
          },
          "metadata": {
            "tags": []
          },
          "execution_count": 64
        }
      ]
    },
    {
      "cell_type": "code",
      "metadata": {
        "id": "CFDQW4aLYDYc"
      },
      "source": [
        "encoded_sex_test = label_encoder.fit_transform(titanic_test[\"Sex\"])"
      ],
      "execution_count": null,
      "outputs": []
    },
    {
      "cell_type": "code",
      "metadata": {
        "id": "kw5Q1b39YDYc"
      },
      "source": [
        "predictors_test = pd.DataFrame([titanic_test[\"Age\"],encoded_sex_test,titanic_test[\"Fare\"]]).T"
      ],
      "execution_count": null,
      "outputs": []
    },
    {
      "cell_type": "code",
      "metadata": {
        "id": "fg6jHhYLYDYd"
      },
      "source": [
        "test_predict = tree_model.predict(predictors_test)"
      ],
      "execution_count": null,
      "outputs": []
    },
    {
      "cell_type": "code",
      "metadata": {
        "id": "P1i-rHhLYDYd"
      },
      "source": [
        "predicted_output = pd.DataFrame({\"PassengerId\":titanic_test[\"PassengerId\"],\"Survived\":test_predict})"
      ],
      "execution_count": null,
      "outputs": []
    },
    {
      "cell_type": "code",
      "metadata": {
        "id": "eOiRceyzYDYe"
      },
      "source": [
        "predicted_output.to_csv(\"Output.csv\",index=False)"
      ],
      "execution_count": null,
      "outputs": []
    },
    {
      "cell_type": "code",
      "metadata": {
        "id": "ge-UHRwBYDYf"
      },
      "source": [
        ""
      ],
      "execution_count": null,
      "outputs": []
    }
  ]
}