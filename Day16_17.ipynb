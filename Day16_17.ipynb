{
  "nbformat": 4,
  "nbformat_minor": 0,
  "metadata": {
    "kernelspec": {
      "display_name": "Python 3",
      "language": "python",
      "name": "python3"
    },
    "language_info": {
      "codemirror_mode": {
        "name": "ipython",
        "version": 3
      },
      "file_extension": ".py",
      "mimetype": "text/x-python",
      "name": "python",
      "nbconvert_exporter": "python",
      "pygments_lexer": "ipython3",
      "version": "3.7.6"
    },
    "colab": {
      "name": "Day16-17.ipynb",
      "provenance": [],
      "include_colab_link": true
    }
  },
  "cells": [
    {
      "cell_type": "markdown",
      "metadata": {
        "id": "view-in-github",
        "colab_type": "text"
      },
      "source": [
        "<a href=\"https://colab.research.google.com/github/Ankipatel8990/LetsUpgrade-AI-ML/blob/master/Day16_17.ipynb\" target=\"_parent\"><img src=\"https://colab.research.google.com/assets/colab-badge.svg\" alt=\"Open In Colab\"/></a>"
      ]
    },
    {
      "cell_type": "markdown",
      "metadata": {
        "id": "Q7U7HLw_VkaB"
      },
      "source": [
        "# Assignment Day 16-17 | "
      ]
    },
    {
      "cell_type": "code",
      "metadata": {
        "id": "WSNVWDLbVkaI"
      },
      "source": [
        "import pandas as pd"
      ],
      "execution_count": null,
      "outputs": []
    },
    {
      "cell_type": "code",
      "metadata": {
        "id": "hYHGqndWVkaN",
        "outputId": "3371f1b2-0036-4f95-b304-8cf1077d63bf"
      },
      "source": [
        "title = pd.read_csv('/Users/VAIBHAV/Vaibhav/Python/LetUpgrade/LetsUpgradeAssignment/Day16-17/titles.csv')\n",
        "title.head()"
      ],
      "execution_count": null,
      "outputs": [
        {
          "output_type": "execute_result",
          "data": {
            "text/html": [
              "<div>\n",
              "<style scoped>\n",
              "    .dataframe tbody tr th:only-of-type {\n",
              "        vertical-align: middle;\n",
              "    }\n",
              "\n",
              "    .dataframe tbody tr th {\n",
              "        vertical-align: top;\n",
              "    }\n",
              "\n",
              "    .dataframe thead th {\n",
              "        text-align: right;\n",
              "    }\n",
              "</style>\n",
              "<table border=\"1\" class=\"dataframe\">\n",
              "  <thead>\n",
              "    <tr style=\"text-align: right;\">\n",
              "      <th></th>\n",
              "      <th>title</th>\n",
              "      <th>year</th>\n",
              "    </tr>\n",
              "  </thead>\n",
              "  <tbody>\n",
              "    <tr>\n",
              "      <th>0</th>\n",
              "      <td>Tasveer Mere Sanam</td>\n",
              "      <td>1996</td>\n",
              "    </tr>\n",
              "    <tr>\n",
              "      <th>1</th>\n",
              "      <td>Only You</td>\n",
              "      <td>1994</td>\n",
              "    </tr>\n",
              "    <tr>\n",
              "      <th>2</th>\n",
              "      <td>El pueblo del terror</td>\n",
              "      <td>1970</td>\n",
              "    </tr>\n",
              "    <tr>\n",
              "      <th>3</th>\n",
              "      <td>Machine</td>\n",
              "      <td>2007</td>\n",
              "    </tr>\n",
              "    <tr>\n",
              "      <th>4</th>\n",
              "      <td>MARy</td>\n",
              "      <td>2008</td>\n",
              "    </tr>\n",
              "  </tbody>\n",
              "</table>\n",
              "</div>"
            ],
            "text/plain": [
              "                  title  year\n",
              "0    Tasveer Mere Sanam  1996\n",
              "1              Only You  1994\n",
              "2  El pueblo del terror  1970\n",
              "3               Machine  2007\n",
              "4                  MARy  2008"
            ]
          },
          "metadata": {
            "tags": []
          },
          "execution_count": 3
        }
      ]
    },
    {
      "cell_type": "markdown",
      "metadata": {
        "collapsed": true,
        "id": "cJNqydICVkaQ"
      },
      "source": [
        "### How many movies are listed in the titles dataframe?"
      ]
    },
    {
      "cell_type": "code",
      "metadata": {
        "id": "-IH0Zxm9VkaR",
        "outputId": "b5e053f4-c5f1-44ec-c3be-907b4b8a5a77"
      },
      "source": [
        "print(\"Total number of movies listed are:\",title.title.count())"
      ],
      "execution_count": null,
      "outputs": [
        {
          "output_type": "stream",
          "text": [
            "Total number of movies listed are: 244914\n"
          ],
          "name": "stdout"
        }
      ]
    },
    {
      "cell_type": "markdown",
      "metadata": {
        "collapsed": true,
        "id": "EbolzjipVkaT"
      },
      "source": [
        "### What are the earliest two films listed in the titles dataframe?"
      ]
    },
    {
      "cell_type": "code",
      "metadata": {
        "id": "ItHLXF2KVkaU",
        "outputId": "962851e5-9de4-4d0c-af05-f21ccb872979"
      },
      "source": [
        "title.sort_values('year').head(2)"
      ],
      "execution_count": null,
      "outputs": [
        {
          "output_type": "execute_result",
          "data": {
            "text/html": [
              "<div>\n",
              "<style scoped>\n",
              "    .dataframe tbody tr th:only-of-type {\n",
              "        vertical-align: middle;\n",
              "    }\n",
              "\n",
              "    .dataframe tbody tr th {\n",
              "        vertical-align: top;\n",
              "    }\n",
              "\n",
              "    .dataframe thead th {\n",
              "        text-align: right;\n",
              "    }\n",
              "</style>\n",
              "<table border=\"1\" class=\"dataframe\">\n",
              "  <thead>\n",
              "    <tr style=\"text-align: right;\">\n",
              "      <th></th>\n",
              "      <th>title</th>\n",
              "      <th>year</th>\n",
              "    </tr>\n",
              "  </thead>\n",
              "  <tbody>\n",
              "    <tr>\n",
              "      <th>193222</th>\n",
              "      <td>Miss Jerry</td>\n",
              "      <td>1894</td>\n",
              "    </tr>\n",
              "    <tr>\n",
              "      <th>51388</th>\n",
              "      <td>The Startled Lover</td>\n",
              "      <td>1898</td>\n",
              "    </tr>\n",
              "  </tbody>\n",
              "</table>\n",
              "</div>"
            ],
            "text/plain": [
              "                     title  year\n",
              "193222          Miss Jerry  1894\n",
              "51388   The Startled Lover  1898"
            ]
          },
          "metadata": {
            "tags": []
          },
          "execution_count": 5
        }
      ]
    },
    {
      "cell_type": "markdown",
      "metadata": {
        "collapsed": true,
        "id": "3ragnsTNVkaW"
      },
      "source": [
        "### How many movies have the title \"Hamlet\"?"
      ]
    },
    {
      "cell_type": "code",
      "metadata": {
        "id": "1WO-SYSIVkaY",
        "outputId": "514ada88-1ed7-449d-bf4d-9656a4f9f6df"
      },
      "source": [
        "len(title[title.title == 'Hamlet'])"
      ],
      "execution_count": null,
      "outputs": [
        {
          "output_type": "execute_result",
          "data": {
            "text/plain": [
              "20"
            ]
          },
          "metadata": {
            "tags": []
          },
          "execution_count": 6
        }
      ]
    },
    {
      "cell_type": "markdown",
      "metadata": {
        "collapsed": true,
        "id": "r3R32uUiVkaa"
      },
      "source": [
        "### How many movies are titled \"North by Northwest\"?"
      ]
    },
    {
      "cell_type": "code",
      "metadata": {
        "id": "1i1kmbSeVkab",
        "outputId": "69adb209-1b6a-4ca1-9463-bb354e2920f5"
      },
      "source": [
        "len(title[title.title == 'North by Northwest'])"
      ],
      "execution_count": null,
      "outputs": [
        {
          "output_type": "execute_result",
          "data": {
            "text/plain": [
              "1"
            ]
          },
          "metadata": {
            "tags": []
          },
          "execution_count": 7
        }
      ]
    },
    {
      "cell_type": "markdown",
      "metadata": {
        "collapsed": true,
        "id": "XvTQE-sLVkad"
      },
      "source": [
        "### When was the first movie titled \"Hamlet\" made?"
      ]
    },
    {
      "cell_type": "code",
      "metadata": {
        "id": "-EXAgCEPVkae",
        "outputId": "2885e56a-b045-40b5-c246-34b9ddd90cf4"
      },
      "source": [
        "title[title.title == 'Hamlet'].sort_values('year').head(1)"
      ],
      "execution_count": null,
      "outputs": [
        {
          "output_type": "execute_result",
          "data": {
            "text/html": [
              "<div>\n",
              "<style scoped>\n",
              "    .dataframe tbody tr th:only-of-type {\n",
              "        vertical-align: middle;\n",
              "    }\n",
              "\n",
              "    .dataframe tbody tr th {\n",
              "        vertical-align: top;\n",
              "    }\n",
              "\n",
              "    .dataframe thead th {\n",
              "        text-align: right;\n",
              "    }\n",
              "</style>\n",
              "<table border=\"1\" class=\"dataframe\">\n",
              "  <thead>\n",
              "    <tr style=\"text-align: right;\">\n",
              "      <th></th>\n",
              "      <th>title</th>\n",
              "      <th>year</th>\n",
              "    </tr>\n",
              "  </thead>\n",
              "  <tbody>\n",
              "    <tr>\n",
              "      <th>52521</th>\n",
              "      <td>Hamlet</td>\n",
              "      <td>1910</td>\n",
              "    </tr>\n",
              "  </tbody>\n",
              "</table>\n",
              "</div>"
            ],
            "text/plain": [
              "        title  year\n",
              "52521  Hamlet  1910"
            ]
          },
          "metadata": {
            "tags": []
          },
          "execution_count": 8
        }
      ]
    },
    {
      "cell_type": "markdown",
      "metadata": {
        "collapsed": true,
        "id": "dvZm_nLXVkag"
      },
      "source": [
        "### List all of the \"Treasure Island\" movies from earliest to most recent."
      ]
    },
    {
      "cell_type": "code",
      "metadata": {
        "id": "K3fZcDRgVkah",
        "outputId": "10c0ab47-ba21-4032-a68b-f57e319d637d"
      },
      "source": [
        "title[title.title == 'Treasure Island'].sort_values('year')"
      ],
      "execution_count": null,
      "outputs": [
        {
          "output_type": "execute_result",
          "data": {
            "text/html": [
              "<div>\n",
              "<style scoped>\n",
              "    .dataframe tbody tr th:only-of-type {\n",
              "        vertical-align: middle;\n",
              "    }\n",
              "\n",
              "    .dataframe tbody tr th {\n",
              "        vertical-align: top;\n",
              "    }\n",
              "\n",
              "    .dataframe thead th {\n",
              "        text-align: right;\n",
              "    }\n",
              "</style>\n",
              "<table border=\"1\" class=\"dataframe\">\n",
              "  <thead>\n",
              "    <tr style=\"text-align: right;\">\n",
              "      <th></th>\n",
              "      <th>title</th>\n",
              "      <th>year</th>\n",
              "    </tr>\n",
              "  </thead>\n",
              "  <tbody>\n",
              "    <tr>\n",
              "      <th>55686</th>\n",
              "      <td>Treasure Island</td>\n",
              "      <td>1918</td>\n",
              "    </tr>\n",
              "    <tr>\n",
              "      <th>196514</th>\n",
              "      <td>Treasure Island</td>\n",
              "      <td>1920</td>\n",
              "    </tr>\n",
              "    <tr>\n",
              "      <th>141822</th>\n",
              "      <td>Treasure Island</td>\n",
              "      <td>1934</td>\n",
              "    </tr>\n",
              "    <tr>\n",
              "      <th>77354</th>\n",
              "      <td>Treasure Island</td>\n",
              "      <td>1950</td>\n",
              "    </tr>\n",
              "    <tr>\n",
              "      <th>65051</th>\n",
              "      <td>Treasure Island</td>\n",
              "      <td>1972</td>\n",
              "    </tr>\n",
              "    <tr>\n",
              "      <th>37238</th>\n",
              "      <td>Treasure Island</td>\n",
              "      <td>1973</td>\n",
              "    </tr>\n",
              "    <tr>\n",
              "      <th>173051</th>\n",
              "      <td>Treasure Island</td>\n",
              "      <td>1985</td>\n",
              "    </tr>\n",
              "    <tr>\n",
              "      <th>27076</th>\n",
              "      <td>Treasure Island</td>\n",
              "      <td>1999</td>\n",
              "    </tr>\n",
              "  </tbody>\n",
              "</table>\n",
              "</div>"
            ],
            "text/plain": [
              "                  title  year\n",
              "55686   Treasure Island  1918\n",
              "196514  Treasure Island  1920\n",
              "141822  Treasure Island  1934\n",
              "77354   Treasure Island  1950\n",
              "65051   Treasure Island  1972\n",
              "37238   Treasure Island  1973\n",
              "173051  Treasure Island  1985\n",
              "27076   Treasure Island  1999"
            ]
          },
          "metadata": {
            "tags": []
          },
          "execution_count": 9
        }
      ]
    },
    {
      "cell_type": "markdown",
      "metadata": {
        "collapsed": true,
        "id": "VDzxjqpFVkai"
      },
      "source": [
        "### How many movies were made in the year 1950?"
      ]
    },
    {
      "cell_type": "code",
      "metadata": {
        "id": "bT4xQrOUVkaj",
        "outputId": "01ad7863-379b-4c79-83aa-ca6296626212"
      },
      "source": [
        "len(title[title.year == 1950])"
      ],
      "execution_count": null,
      "outputs": [
        {
          "output_type": "execute_result",
          "data": {
            "text/plain": [
              "1113"
            ]
          },
          "metadata": {
            "tags": []
          },
          "execution_count": 10
        }
      ]
    },
    {
      "cell_type": "markdown",
      "metadata": {
        "collapsed": true,
        "id": "zekeJw58Vkal"
      },
      "source": [
        "### How many movies were made in the year 1960?"
      ]
    },
    {
      "cell_type": "code",
      "metadata": {
        "id": "hePrh1b3Vkam",
        "outputId": "52508fee-5d16-4bde-d5ee-e852638460cd"
      },
      "source": [
        "len(title[title.year == 1960])"
      ],
      "execution_count": null,
      "outputs": [
        {
          "output_type": "execute_result",
          "data": {
            "text/plain": [
              "1549"
            ]
          },
          "metadata": {
            "tags": []
          },
          "execution_count": 11
        }
      ]
    },
    {
      "cell_type": "markdown",
      "metadata": {
        "collapsed": true,
        "id": "0STiGBoIVkan"
      },
      "source": [
        "### How many movies were made from 1950 through 1959?"
      ]
    },
    {
      "cell_type": "markdown",
      "metadata": {
        "id": "NZDAkVHcVkap"
      },
      "source": [
        ""
      ]
    },
    {
      "cell_type": "code",
      "metadata": {
        "id": "NdypYaESVkaq",
        "outputId": "db99da6c-86ff-4545-a5df-e9932dd8b45e"
      },
      "source": [
        "len(title[(title.year >= 1950) & (title.year <= 1959)])"
      ],
      "execution_count": null,
      "outputs": [
        {
          "output_type": "execute_result",
          "data": {
            "text/plain": [
              "12934"
            ]
          },
          "metadata": {
            "tags": []
          },
          "execution_count": 12
        }
      ]
    },
    {
      "cell_type": "markdown",
      "metadata": {
        "collapsed": true,
        "id": "o3mwVL9xVkar"
      },
      "source": [
        "### In what years has a movie titled \"Batman\" been released?"
      ]
    },
    {
      "cell_type": "code",
      "metadata": {
        "id": "GI-EuUkiVkat",
        "outputId": "99fed028-378b-4bc6-c01e-237c1ac6f4e5"
      },
      "source": [
        "title[title.title == \"Batman\"]"
      ],
      "execution_count": null,
      "outputs": [
        {
          "output_type": "execute_result",
          "data": {
            "text/html": [
              "<div>\n",
              "<style scoped>\n",
              "    .dataframe tbody tr th:only-of-type {\n",
              "        vertical-align: middle;\n",
              "    }\n",
              "\n",
              "    .dataframe tbody tr th {\n",
              "        vertical-align: top;\n",
              "    }\n",
              "\n",
              "    .dataframe thead th {\n",
              "        text-align: right;\n",
              "    }\n",
              "</style>\n",
              "<table border=\"1\" class=\"dataframe\">\n",
              "  <thead>\n",
              "    <tr style=\"text-align: right;\">\n",
              "      <th></th>\n",
              "      <th>title</th>\n",
              "      <th>year</th>\n",
              "    </tr>\n",
              "  </thead>\n",
              "  <tbody>\n",
              "    <tr>\n",
              "      <th>39349</th>\n",
              "      <td>Batman</td>\n",
              "      <td>1943</td>\n",
              "    </tr>\n",
              "    <tr>\n",
              "      <th>240896</th>\n",
              "      <td>Batman</td>\n",
              "      <td>1989</td>\n",
              "    </tr>\n",
              "  </tbody>\n",
              "</table>\n",
              "</div>"
            ],
            "text/plain": [
              "         title  year\n",
              "39349   Batman  1943\n",
              "240896  Batman  1989"
            ]
          },
          "metadata": {
            "tags": []
          },
          "execution_count": 13
        }
      ]
    },
    {
      "cell_type": "markdown",
      "metadata": {
        "collapsed": true,
        "id": "x2I-qXBFVkav"
      },
      "source": [
        "### How many roles were there in the movie \"Inception\"?"
      ]
    },
    {
      "cell_type": "code",
      "metadata": {
        "id": "PYAHgSdWVkaw",
        "outputId": "b6becfbf-c5a6-4c92-aff4-bdc2d0e3bee1"
      },
      "source": [
        "cast = pd.read_csv('/Users/VAIBHAV/Vaibhav/Python/LetUpgrade/LetsUpgradeAssignment/Day16-17/cast.csv')\n",
        "cast.head()"
      ],
      "execution_count": null,
      "outputs": [
        {
          "output_type": "execute_result",
          "data": {
            "text/html": [
              "<div>\n",
              "<style scoped>\n",
              "    .dataframe tbody tr th:only-of-type {\n",
              "        vertical-align: middle;\n",
              "    }\n",
              "\n",
              "    .dataframe tbody tr th {\n",
              "        vertical-align: top;\n",
              "    }\n",
              "\n",
              "    .dataframe thead th {\n",
              "        text-align: right;\n",
              "    }\n",
              "</style>\n",
              "<table border=\"1\" class=\"dataframe\">\n",
              "  <thead>\n",
              "    <tr style=\"text-align: right;\">\n",
              "      <th></th>\n",
              "      <th>title</th>\n",
              "      <th>year</th>\n",
              "      <th>name</th>\n",
              "      <th>type</th>\n",
              "      <th>character</th>\n",
              "      <th>n</th>\n",
              "    </tr>\n",
              "  </thead>\n",
              "  <tbody>\n",
              "    <tr>\n",
              "      <th>0</th>\n",
              "      <td>Closet Monster</td>\n",
              "      <td>2015</td>\n",
              "      <td>Buffy #1</td>\n",
              "      <td>actor</td>\n",
              "      <td>Buffy 4</td>\n",
              "      <td>31.0</td>\n",
              "    </tr>\n",
              "    <tr>\n",
              "      <th>1</th>\n",
              "      <td>Suuri illusioni</td>\n",
              "      <td>1985</td>\n",
              "      <td>Homo $</td>\n",
              "      <td>actor</td>\n",
              "      <td>Guests</td>\n",
              "      <td>22.0</td>\n",
              "    </tr>\n",
              "    <tr>\n",
              "      <th>2</th>\n",
              "      <td>Battle of the Sexes</td>\n",
              "      <td>2017</td>\n",
              "      <td>$hutter</td>\n",
              "      <td>actor</td>\n",
              "      <td>Bobby Riggs Fan</td>\n",
              "      <td>10.0</td>\n",
              "    </tr>\n",
              "    <tr>\n",
              "      <th>3</th>\n",
              "      <td>Secret in Their Eyes</td>\n",
              "      <td>2015</td>\n",
              "      <td>$hutter</td>\n",
              "      <td>actor</td>\n",
              "      <td>2002 Dodger Fan</td>\n",
              "      <td>NaN</td>\n",
              "    </tr>\n",
              "    <tr>\n",
              "      <th>4</th>\n",
              "      <td>Steve Jobs</td>\n",
              "      <td>2015</td>\n",
              "      <td>$hutter</td>\n",
              "      <td>actor</td>\n",
              "      <td>1988 Opera House Patron</td>\n",
              "      <td>NaN</td>\n",
              "    </tr>\n",
              "  </tbody>\n",
              "</table>\n",
              "</div>"
            ],
            "text/plain": [
              "                  title  year      name   type                character     n\n",
              "0        Closet Monster  2015  Buffy #1  actor                  Buffy 4  31.0\n",
              "1       Suuri illusioni  1985    Homo $  actor                   Guests  22.0\n",
              "2   Battle of the Sexes  2017   $hutter  actor          Bobby Riggs Fan  10.0\n",
              "3  Secret in Their Eyes  2015   $hutter  actor          2002 Dodger Fan   NaN\n",
              "4            Steve Jobs  2015   $hutter  actor  1988 Opera House Patron   NaN"
            ]
          },
          "metadata": {
            "tags": []
          },
          "execution_count": 14
        }
      ]
    },
    {
      "cell_type": "code",
      "metadata": {
        "id": "u5kGeG8-Vkay",
        "outputId": "106b6881-cbad-483c-9f6f-b03331506028"
      },
      "source": [
        "print(\"Number of roles in movie Inception: \",len(cast[cast.title == \"Inception\"]))"
      ],
      "execution_count": null,
      "outputs": [
        {
          "output_type": "stream",
          "text": [
            "Number of roles in movie Inception:  78\n"
          ],
          "name": "stdout"
        }
      ]
    },
    {
      "cell_type": "markdown",
      "metadata": {
        "collapsed": true,
        "id": "Wp9o9xT2Vkaz"
      },
      "source": [
        "### How many roles in the movie \"Inception\" are NOT ranked by an \"n\" value?"
      ]
    },
    {
      "cell_type": "code",
      "metadata": {
        "id": "fuz8mPH_Vka0",
        "outputId": "e523adec-b76c-42e9-9aee-324f0cd00650"
      },
      "source": [
        "print(\"Number of roles in the movie Inception are not ranked:\",len(cast[(cast.title == \"Inception\") & (cast.n.isna())]))"
      ],
      "execution_count": null,
      "outputs": [
        {
          "output_type": "stream",
          "text": [
            "Number of roles in the movie Inception are not ranked: 27\n"
          ],
          "name": "stdout"
        }
      ]
    },
    {
      "cell_type": "markdown",
      "metadata": {
        "collapsed": true,
        "id": "830Aa8ZNVka1"
      },
      "source": [
        "### But how many roles in the movie \"Inception\" did receive an \"n\" value?"
      ]
    },
    {
      "cell_type": "code",
      "metadata": {
        "id": "6nblhaMMVka2",
        "outputId": "5879b8aa-f186-4610-e9d1-94d89e4d225d"
      },
      "source": [
        "print(\"Number of roles in the movie Inception did receive an n value:\",len(cast[(cast.title == \"Inception\") & (cast.n.isna() == False)]))"
      ],
      "execution_count": null,
      "outputs": [
        {
          "output_type": "stream",
          "text": [
            "Number of roles in the movie Inception did receive an n value: 51\n"
          ],
          "name": "stdout"
        }
      ]
    },
    {
      "cell_type": "markdown",
      "metadata": {
        "collapsed": true,
        "id": "D1qeSsmAVka3"
      },
      "source": [
        "### Display the cast of \"North by Northwest\" in their correct \"n\"-value order, ignoring roles that did not earn a numeric \"n\" value."
      ]
    },
    {
      "cell_type": "code",
      "metadata": {
        "id": "U76yJRHoVka4",
        "outputId": "94ae1509-ac80-4f10-884e-22733d13a930"
      },
      "source": [
        "df = cast[(cast.title == \"North by Northwest\") & (cast.n.isna() == False)]\n",
        "df.sort_values(by=['n'])"
      ],
      "execution_count": null,
      "outputs": [
        {
          "output_type": "execute_result",
          "data": {
            "text/html": [
              "<div>\n",
              "<style scoped>\n",
              "    .dataframe tbody tr th:only-of-type {\n",
              "        vertical-align: middle;\n",
              "    }\n",
              "\n",
              "    .dataframe tbody tr th {\n",
              "        vertical-align: top;\n",
              "    }\n",
              "\n",
              "    .dataframe thead th {\n",
              "        text-align: right;\n",
              "    }\n",
              "</style>\n",
              "<table border=\"1\" class=\"dataframe\">\n",
              "  <thead>\n",
              "    <tr style=\"text-align: right;\">\n",
              "      <th></th>\n",
              "      <th>title</th>\n",
              "      <th>year</th>\n",
              "      <th>name</th>\n",
              "      <th>type</th>\n",
              "      <th>character</th>\n",
              "      <th>n</th>\n",
              "    </tr>\n",
              "  </thead>\n",
              "  <tbody>\n",
              "    <tr>\n",
              "      <th>871426</th>\n",
              "      <td>North by Northwest</td>\n",
              "      <td>1959</td>\n",
              "      <td>Cary Grant</td>\n",
              "      <td>actor</td>\n",
              "      <td>Roger O. Thornhill</td>\n",
              "      <td>1.0</td>\n",
              "    </tr>\n",
              "    <tr>\n",
              "      <th>3518333</th>\n",
              "      <td>North by Northwest</td>\n",
              "      <td>1959</td>\n",
              "      <td>Eva Marie Saint</td>\n",
              "      <td>actress</td>\n",
              "      <td>Eve Kendall</td>\n",
              "      <td>2.0</td>\n",
              "    </tr>\n",
              "    <tr>\n",
              "      <th>1457165</th>\n",
              "      <td>North by Northwest</td>\n",
              "      <td>1959</td>\n",
              "      <td>James Mason</td>\n",
              "      <td>actor</td>\n",
              "      <td>Phillip Vandamm</td>\n",
              "      <td>3.0</td>\n",
              "    </tr>\n",
              "    <tr>\n",
              "      <th>3157232</th>\n",
              "      <td>North by Northwest</td>\n",
              "      <td>1959</td>\n",
              "      <td>Jessie Royce Landis</td>\n",
              "      <td>actress</td>\n",
              "      <td>Clara Thornhill</td>\n",
              "      <td>4.0</td>\n",
              "    </tr>\n",
              "    <tr>\n",
              "      <th>356707</th>\n",
              "      <td>North by Northwest</td>\n",
              "      <td>1959</td>\n",
              "      <td>Leo G. Carroll</td>\n",
              "      <td>actor</td>\n",
              "      <td>The Professor</td>\n",
              "      <td>5.0</td>\n",
              "    </tr>\n",
              "    <tr>\n",
              "      <th>3048272</th>\n",
              "      <td>North by Northwest</td>\n",
              "      <td>1959</td>\n",
              "      <td>Josephine Hutchinson</td>\n",
              "      <td>actress</td>\n",
              "      <td>Mrs. Townsend</td>\n",
              "      <td>6.0</td>\n",
              "    </tr>\n",
              "    <tr>\n",
              "      <th>1695173</th>\n",
              "      <td>North by Northwest</td>\n",
              "      <td>1959</td>\n",
              "      <td>Philip Ober</td>\n",
              "      <td>actor</td>\n",
              "      <td>Lester Townsend</td>\n",
              "      <td>7.0</td>\n",
              "    </tr>\n",
              "    <tr>\n",
              "      <th>1275337</th>\n",
              "      <td>North by Northwest</td>\n",
              "      <td>1959</td>\n",
              "      <td>Martin Landau</td>\n",
              "      <td>actor</td>\n",
              "      <td>Leonard</td>\n",
              "      <td>8.0</td>\n",
              "    </tr>\n",
              "    <tr>\n",
              "      <th>2447081</th>\n",
              "      <td>North by Northwest</td>\n",
              "      <td>1959</td>\n",
              "      <td>Adam Williams</td>\n",
              "      <td>actor</td>\n",
              "      <td>Valerian</td>\n",
              "      <td>9.0</td>\n",
              "    </tr>\n",
              "    <tr>\n",
              "      <th>1811387</th>\n",
              "      <td>North by Northwest</td>\n",
              "      <td>1959</td>\n",
              "      <td>Edward Platt</td>\n",
              "      <td>actor</td>\n",
              "      <td>Victor Larrabee</td>\n",
              "      <td>10.0</td>\n",
              "    </tr>\n",
              "    <tr>\n",
              "      <th>665768</th>\n",
              "      <td>North by Northwest</td>\n",
              "      <td>1959</td>\n",
              "      <td>Robert Ellenstein</td>\n",
              "      <td>actor</td>\n",
              "      <td>Licht</td>\n",
              "      <td>11.0</td>\n",
              "    </tr>\n",
              "    <tr>\n",
              "      <th>2295714</th>\n",
              "      <td>North by Northwest</td>\n",
              "      <td>1959</td>\n",
              "      <td>Les Tremayne</td>\n",
              "      <td>actor</td>\n",
              "      <td>Auctioneer</td>\n",
              "      <td>12.0</td>\n",
              "    </tr>\n",
              "    <tr>\n",
              "      <th>464736</th>\n",
              "      <td>North by Northwest</td>\n",
              "      <td>1959</td>\n",
              "      <td>Philip Coolidge</td>\n",
              "      <td>actor</td>\n",
              "      <td>Dr. Cross</td>\n",
              "      <td>13.0</td>\n",
              "    </tr>\n",
              "    <tr>\n",
              "      <th>1508344</th>\n",
              "      <td>North by Northwest</td>\n",
              "      <td>1959</td>\n",
              "      <td>Patrick McVey</td>\n",
              "      <td>actor</td>\n",
              "      <td>Sergeant Flamm</td>\n",
              "      <td>14.0</td>\n",
              "    </tr>\n",
              "    <tr>\n",
              "      <th>206471</th>\n",
              "      <td>North by Northwest</td>\n",
              "      <td>1959</td>\n",
              "      <td>Edward Binns</td>\n",
              "      <td>actor</td>\n",
              "      <td>Captain Junket</td>\n",
              "      <td>15.0</td>\n",
              "    </tr>\n",
              "    <tr>\n",
              "      <th>1384780</th>\n",
              "      <td>North by Northwest</td>\n",
              "      <td>1959</td>\n",
              "      <td>Ken Lynch</td>\n",
              "      <td>actor</td>\n",
              "      <td>Charley - Chicago Policeman</td>\n",
              "      <td>16.0</td>\n",
              "    </tr>\n",
              "  </tbody>\n",
              "</table>\n",
              "</div>"
            ],
            "text/plain": [
              "                      title  year                  name     type  \\\n",
              "871426   North by Northwest  1959            Cary Grant    actor   \n",
              "3518333  North by Northwest  1959       Eva Marie Saint  actress   \n",
              "1457165  North by Northwest  1959           James Mason    actor   \n",
              "3157232  North by Northwest  1959   Jessie Royce Landis  actress   \n",
              "356707   North by Northwest  1959        Leo G. Carroll    actor   \n",
              "3048272  North by Northwest  1959  Josephine Hutchinson  actress   \n",
              "1695173  North by Northwest  1959           Philip Ober    actor   \n",
              "1275337  North by Northwest  1959         Martin Landau    actor   \n",
              "2447081  North by Northwest  1959         Adam Williams    actor   \n",
              "1811387  North by Northwest  1959          Edward Platt    actor   \n",
              "665768   North by Northwest  1959     Robert Ellenstein    actor   \n",
              "2295714  North by Northwest  1959          Les Tremayne    actor   \n",
              "464736   North by Northwest  1959       Philip Coolidge    actor   \n",
              "1508344  North by Northwest  1959         Patrick McVey    actor   \n",
              "206471   North by Northwest  1959          Edward Binns    actor   \n",
              "1384780  North by Northwest  1959             Ken Lynch    actor   \n",
              "\n",
              "                           character     n  \n",
              "871426            Roger O. Thornhill   1.0  \n",
              "3518333                  Eve Kendall   2.0  \n",
              "1457165              Phillip Vandamm   3.0  \n",
              "3157232              Clara Thornhill   4.0  \n",
              "356707                 The Professor   5.0  \n",
              "3048272                Mrs. Townsend   6.0  \n",
              "1695173              Lester Townsend   7.0  \n",
              "1275337                      Leonard   8.0  \n",
              "2447081                     Valerian   9.0  \n",
              "1811387              Victor Larrabee  10.0  \n",
              "665768                         Licht  11.0  \n",
              "2295714                   Auctioneer  12.0  \n",
              "464736                     Dr. Cross  13.0  \n",
              "1508344               Sergeant Flamm  14.0  \n",
              "206471                Captain Junket  15.0  \n",
              "1384780  Charley - Chicago Policeman  16.0  "
            ]
          },
          "metadata": {
            "tags": []
          },
          "execution_count": 18
        }
      ]
    },
    {
      "cell_type": "markdown",
      "metadata": {
        "collapsed": true,
        "id": "Qskbf3Z5Vka6"
      },
      "source": [
        "### Display the entire cast, in \"n\"-order, of the 1972 film \"Sleuth\"."
      ]
    },
    {
      "cell_type": "code",
      "metadata": {
        "id": "xF1SSyBuVka8",
        "outputId": "26b8439f-99ab-4041-b6d7-64bc9d711492"
      },
      "source": [
        "df = cast[(cast.title == \"Sleuth\") & (cast.year == 1972) & (cast.n.isna() == False)]\n",
        "df.sort_values(by=['n'])"
      ],
      "execution_count": null,
      "outputs": [
        {
          "output_type": "execute_result",
          "data": {
            "text/html": [
              "<div>\n",
              "<style scoped>\n",
              "    .dataframe tbody tr th:only-of-type {\n",
              "        vertical-align: middle;\n",
              "    }\n",
              "\n",
              "    .dataframe tbody tr th {\n",
              "        vertical-align: top;\n",
              "    }\n",
              "\n",
              "    .dataframe thead th {\n",
              "        text-align: right;\n",
              "    }\n",
              "</style>\n",
              "<table border=\"1\" class=\"dataframe\">\n",
              "  <thead>\n",
              "    <tr style=\"text-align: right;\">\n",
              "      <th></th>\n",
              "      <th>title</th>\n",
              "      <th>year</th>\n",
              "      <th>name</th>\n",
              "      <th>type</th>\n",
              "      <th>character</th>\n",
              "      <th>n</th>\n",
              "    </tr>\n",
              "  </thead>\n",
              "  <tbody>\n",
              "    <tr>\n",
              "      <th>1705394</th>\n",
              "      <td>Sleuth</td>\n",
              "      <td>1972</td>\n",
              "      <td>Laurence Olivier</td>\n",
              "      <td>actor</td>\n",
              "      <td>Andrew Wyke</td>\n",
              "      <td>1.0</td>\n",
              "    </tr>\n",
              "    <tr>\n",
              "      <th>326773</th>\n",
              "      <td>Sleuth</td>\n",
              "      <td>1972</td>\n",
              "      <td>Michael Caine</td>\n",
              "      <td>actor</td>\n",
              "      <td>Milo Tindle</td>\n",
              "      <td>2.0</td>\n",
              "    </tr>\n",
              "    <tr>\n",
              "      <th>373876</th>\n",
              "      <td>Sleuth</td>\n",
              "      <td>1972</td>\n",
              "      <td>Alec Cawthorne</td>\n",
              "      <td>actor</td>\n",
              "      <td>Inspector Doppler</td>\n",
              "      <td>3.0</td>\n",
              "    </tr>\n",
              "    <tr>\n",
              "      <th>1465483</th>\n",
              "      <td>Sleuth</td>\n",
              "      <td>1972</td>\n",
              "      <td>John (II) Matthews</td>\n",
              "      <td>actor</td>\n",
              "      <td>Detective Sergeant Tarrant</td>\n",
              "      <td>4.0</td>\n",
              "    </tr>\n",
              "    <tr>\n",
              "      <th>2724553</th>\n",
              "      <td>Sleuth</td>\n",
              "      <td>1972</td>\n",
              "      <td>Eve (III) Channing</td>\n",
              "      <td>actress</td>\n",
              "      <td>Marguerite Wyke</td>\n",
              "      <td>5.0</td>\n",
              "    </tr>\n",
              "    <tr>\n",
              "      <th>1448690</th>\n",
              "      <td>Sleuth</td>\n",
              "      <td>1972</td>\n",
              "      <td>Teddy Martin</td>\n",
              "      <td>actor</td>\n",
              "      <td>Police Constable Higgs</td>\n",
              "      <td>6.0</td>\n",
              "    </tr>\n",
              "  </tbody>\n",
              "</table>\n",
              "</div>"
            ],
            "text/plain": [
              "          title  year                name     type  \\\n",
              "1705394  Sleuth  1972    Laurence Olivier    actor   \n",
              "326773   Sleuth  1972       Michael Caine    actor   \n",
              "373876   Sleuth  1972      Alec Cawthorne    actor   \n",
              "1465483  Sleuth  1972  John (II) Matthews    actor   \n",
              "2724553  Sleuth  1972  Eve (III) Channing  actress   \n",
              "1448690  Sleuth  1972        Teddy Martin    actor   \n",
              "\n",
              "                          character    n  \n",
              "1705394                 Andrew Wyke  1.0  \n",
              "326773                  Milo Tindle  2.0  \n",
              "373876            Inspector Doppler  3.0  \n",
              "1465483  Detective Sergeant Tarrant  4.0  \n",
              "2724553             Marguerite Wyke  5.0  \n",
              "1448690      Police Constable Higgs  6.0  "
            ]
          },
          "metadata": {
            "tags": []
          },
          "execution_count": 19
        }
      ]
    },
    {
      "cell_type": "markdown",
      "metadata": {
        "collapsed": true,
        "id": "hgTrMquhVka9"
      },
      "source": [
        "### Now display the entire cast, in \"n\"-order, of the 2007 version of \"Sleuth\"."
      ]
    },
    {
      "cell_type": "code",
      "metadata": {
        "id": "JVRK4zzHVka-",
        "outputId": "4fc0d88a-a0b0-47f0-a3ff-c6d0fb51836d"
      },
      "source": [
        "df = cast[(cast.title == \"Sleuth\") & (cast.year == 2007) & (cast.n.isna() == False)]\n",
        "df.sort_values(by=['n'])"
      ],
      "execution_count": null,
      "outputs": [
        {
          "output_type": "execute_result",
          "data": {
            "text/html": [
              "<div>\n",
              "<style scoped>\n",
              "    .dataframe tbody tr th:only-of-type {\n",
              "        vertical-align: middle;\n",
              "    }\n",
              "\n",
              "    .dataframe tbody tr th {\n",
              "        vertical-align: top;\n",
              "    }\n",
              "\n",
              "    .dataframe thead th {\n",
              "        text-align: right;\n",
              "    }\n",
              "</style>\n",
              "<table border=\"1\" class=\"dataframe\">\n",
              "  <thead>\n",
              "    <tr style=\"text-align: right;\">\n",
              "      <th></th>\n",
              "      <th>title</th>\n",
              "      <th>year</th>\n",
              "      <th>name</th>\n",
              "      <th>type</th>\n",
              "      <th>character</th>\n",
              "      <th>n</th>\n",
              "    </tr>\n",
              "  </thead>\n",
              "  <tbody>\n",
              "    <tr>\n",
              "      <th>326774</th>\n",
              "      <td>Sleuth</td>\n",
              "      <td>2007</td>\n",
              "      <td>Michael Caine</td>\n",
              "      <td>actor</td>\n",
              "      <td>Andrew</td>\n",
              "      <td>1.0</td>\n",
              "    </tr>\n",
              "    <tr>\n",
              "      <th>1293634</th>\n",
              "      <td>Sleuth</td>\n",
              "      <td>2007</td>\n",
              "      <td>Jude Law</td>\n",
              "      <td>actor</td>\n",
              "      <td>Milo</td>\n",
              "      <td>2.0</td>\n",
              "    </tr>\n",
              "    <tr>\n",
              "      <th>1805907</th>\n",
              "      <td>Sleuth</td>\n",
              "      <td>2007</td>\n",
              "      <td>Harold Pinter</td>\n",
              "      <td>actor</td>\n",
              "      <td>Man on T.V.</td>\n",
              "      <td>3.0</td>\n",
              "    </tr>\n",
              "  </tbody>\n",
              "</table>\n",
              "</div>"
            ],
            "text/plain": [
              "          title  year           name   type    character    n\n",
              "326774   Sleuth  2007  Michael Caine  actor       Andrew  1.0\n",
              "1293634  Sleuth  2007       Jude Law  actor         Milo  2.0\n",
              "1805907  Sleuth  2007  Harold Pinter  actor  Man on T.V.  3.0"
            ]
          },
          "metadata": {
            "tags": []
          },
          "execution_count": 20
        }
      ]
    },
    {
      "cell_type": "markdown",
      "metadata": {
        "collapsed": true,
        "id": "IjJ_Lou5VkbA"
      },
      "source": [
        "### How many roles were credited in the silent 1921 version of Hamlet?"
      ]
    },
    {
      "cell_type": "code",
      "metadata": {
        "id": "TP-7tlwNVkbA",
        "outputId": "df3c9cd3-485f-4d1a-c926-a9ec1c584a4c"
      },
      "source": [
        "print(\"Number of roles were created in the 1921 version of Hamlet:\",len(cast[(cast.title == \"Hamlet\") & (cast.year == 1921)]))"
      ],
      "execution_count": null,
      "outputs": [
        {
          "output_type": "stream",
          "text": [
            "Number of roles were created in the 1921 version of Hamlet: 9\n"
          ],
          "name": "stdout"
        }
      ]
    },
    {
      "cell_type": "markdown",
      "metadata": {
        "collapsed": true,
        "id": "2b0kiC2rVkbC"
      },
      "source": [
        "### How many roles were credited in Branagh’s 1996 Hamlet?"
      ]
    },
    {
      "cell_type": "code",
      "metadata": {
        "id": "5fguRjpUVkbx",
        "outputId": "e8c88a40-495e-4666-8240-8c14e78bfcb3"
      },
      "source": [
        "print(\"Number of roles were created in the 1996 Hamlet\",len(cast[(cast.title == \"Hamlet\")  & (cast.year == 1996)]))"
      ],
      "execution_count": null,
      "outputs": [
        {
          "output_type": "stream",
          "text": [
            "Number of roles were created in the 1996 Hamlet 54\n"
          ],
          "name": "stdout"
        }
      ]
    },
    {
      "cell_type": "markdown",
      "metadata": {
        "collapsed": true,
        "id": "HosX1DhwVkbz"
      },
      "source": [
        "### How many \"Hamlet\" roles have been listed in all film credits through history?"
      ]
    },
    {
      "cell_type": "code",
      "metadata": {
        "id": "bY9SvTTdVkb0",
        "outputId": "557792da-00c5-4a19-e332-86353c0706a3"
      },
      "source": [
        "print(\"Number of roles have been listed Hamlet\",len(cast[(cast.title == \"Hamlet\")]))"
      ],
      "execution_count": null,
      "outputs": [
        {
          "output_type": "stream",
          "text": [
            "Number of roles have been listed Hamlet 342\n"
          ],
          "name": "stdout"
        }
      ]
    },
    {
      "cell_type": "markdown",
      "metadata": {
        "collapsed": true,
        "id": "RfltdvzHVkb1"
      },
      "source": [
        "### How many people have played an \"Ophelia\"?"
      ]
    },
    {
      "cell_type": "code",
      "metadata": {
        "id": "LLI4YQAUVkb2",
        "outputId": "8f531241-9691-4263-8dbd-f17b1eb57cab"
      },
      "source": [
        "print(\"Number of people played an Ophelia\",len(cast[cast.title == \"Ophelia\"]))"
      ],
      "execution_count": null,
      "outputs": [
        {
          "output_type": "stream",
          "text": [
            "Number of people played an Ophelia 20\n"
          ],
          "name": "stdout"
        }
      ]
    },
    {
      "cell_type": "markdown",
      "metadata": {
        "collapsed": true,
        "id": "K5bGCE3NVkb3"
      },
      "source": [
        "### How many people have played a role called \"The Dude\"?"
      ]
    },
    {
      "cell_type": "code",
      "metadata": {
        "id": "n0B4cOu-Vkb4",
        "outputId": "16e17977-7356-44f7-edb7-f3c2b5acef2d"
      },
      "source": [
        "print(\"Number of people have played a role called The Dude:\",len(cast[cast.character == \"The Dude\"]))"
      ],
      "execution_count": null,
      "outputs": [
        {
          "output_type": "stream",
          "text": [
            "Number of people have played a role called The Dude: 19\n"
          ],
          "name": "stdout"
        }
      ]
    },
    {
      "cell_type": "markdown",
      "metadata": {
        "collapsed": true,
        "id": "GxHNEjLHVkb5"
      },
      "source": [
        "### How many people have played a role called \"The Stranger\"?"
      ]
    },
    {
      "cell_type": "code",
      "metadata": {
        "id": "nPFAPs77Vkb6",
        "outputId": "f4f0f0bb-977e-4d88-b184-20b92b8212dc"
      },
      "source": [
        "print(\"Number of people have played a role called The Stranger:\",len(cast[cast.character == \"The Stranger\"]))"
      ],
      "execution_count": null,
      "outputs": [
        {
          "output_type": "stream",
          "text": [
            "Number of people have played a role called The Stranger: 212\n"
          ],
          "name": "stdout"
        }
      ]
    },
    {
      "cell_type": "markdown",
      "metadata": {
        "collapsed": true,
        "id": "9oAg0Xu7Vkb8"
      },
      "source": [
        "### How many roles has Sidney Poitier played throughout his career?"
      ]
    },
    {
      "cell_type": "code",
      "metadata": {
        "id": "wgLMFv5kVkb9",
        "outputId": "ec48fc9b-6d70-4768-a4dc-0c582a53c674"
      },
      "source": [
        "print(\"Number of people have played a role called Sidney Poitier:\",len(cast[cast.character == \"Sidney Poitier\"]))"
      ],
      "execution_count": null,
      "outputs": [
        {
          "output_type": "stream",
          "text": [
            "Number of people have played a role called Sidney Poitier: 1\n"
          ],
          "name": "stdout"
        }
      ]
    },
    {
      "cell_type": "markdown",
      "metadata": {
        "collapsed": true,
        "id": "-2LvpA4kVkb_"
      },
      "source": [
        "### How many roles has Judi Dench played?"
      ]
    },
    {
      "cell_type": "code",
      "metadata": {
        "id": "2BD7UogYVkcA",
        "outputId": "d1606656-fc0a-4804-92a1-444e72756b47"
      },
      "source": [
        "print(\"Number of people have played a role called Judi Dench:\",len(cast[cast.character == \"Judi Dench\"]))"
      ],
      "execution_count": null,
      "outputs": [
        {
          "output_type": "stream",
          "text": [
            "Number of people have played a role called Judi Dench: 0\n"
          ],
          "name": "stdout"
        }
      ]
    },
    {
      "cell_type": "markdown",
      "metadata": {
        "collapsed": true,
        "id": "DiGBNMpiVkcB"
      },
      "source": [
        "### List the supporting roles (having n=2) played by Cary Grant in the 1940s, in order by year."
      ]
    },
    {
      "cell_type": "code",
      "metadata": {
        "id": "p0l19_qKVkcC",
        "outputId": "eeff5e97-e45b-48cd-d5bf-6e7caaa71f4a"
      },
      "source": [
        "cast[(cast.character == \"Cary Grant\") & (cast.n == 2.0) & (cast.year == 1940)]"
      ],
      "execution_count": null,
      "outputs": [
        {
          "output_type": "execute_result",
          "data": {
            "text/html": [
              "<div>\n",
              "<style scoped>\n",
              "    .dataframe tbody tr th:only-of-type {\n",
              "        vertical-align: middle;\n",
              "    }\n",
              "\n",
              "    .dataframe tbody tr th {\n",
              "        vertical-align: top;\n",
              "    }\n",
              "\n",
              "    .dataframe thead th {\n",
              "        text-align: right;\n",
              "    }\n",
              "</style>\n",
              "<table border=\"1\" class=\"dataframe\">\n",
              "  <thead>\n",
              "    <tr style=\"text-align: right;\">\n",
              "      <th></th>\n",
              "      <th>title</th>\n",
              "      <th>year</th>\n",
              "      <th>name</th>\n",
              "      <th>type</th>\n",
              "      <th>character</th>\n",
              "      <th>n</th>\n",
              "    </tr>\n",
              "  </thead>\n",
              "  <tbody>\n",
              "  </tbody>\n",
              "</table>\n",
              "</div>"
            ],
            "text/plain": [
              "Empty DataFrame\n",
              "Columns: [title, year, name, type, character, n]\n",
              "Index: []"
            ]
          },
          "metadata": {
            "tags": []
          },
          "execution_count": 53
        }
      ]
    },
    {
      "cell_type": "markdown",
      "metadata": {
        "collapsed": true,
        "id": "SbLyormYVkcD"
      },
      "source": [
        "### List the leading roles that Cary Grant played in the 1940s in order by year."
      ]
    },
    {
      "cell_type": "code",
      "metadata": {
        "id": "6IWcLnYNVkcE",
        "outputId": "2d095805-84b7-4faf-c5c8-48465587865f"
      },
      "source": [
        "cast[(cast.character == \"Cary Grant\") & (cast.year == 1940)]"
      ],
      "execution_count": null,
      "outputs": [
        {
          "output_type": "execute_result",
          "data": {
            "text/html": [
              "<div>\n",
              "<style scoped>\n",
              "    .dataframe tbody tr th:only-of-type {\n",
              "        vertical-align: middle;\n",
              "    }\n",
              "\n",
              "    .dataframe tbody tr th {\n",
              "        vertical-align: top;\n",
              "    }\n",
              "\n",
              "    .dataframe thead th {\n",
              "        text-align: right;\n",
              "    }\n",
              "</style>\n",
              "<table border=\"1\" class=\"dataframe\">\n",
              "  <thead>\n",
              "    <tr style=\"text-align: right;\">\n",
              "      <th></th>\n",
              "      <th>title</th>\n",
              "      <th>year</th>\n",
              "      <th>name</th>\n",
              "      <th>type</th>\n",
              "      <th>character</th>\n",
              "      <th>n</th>\n",
              "    </tr>\n",
              "  </thead>\n",
              "  <tbody>\n",
              "  </tbody>\n",
              "</table>\n",
              "</div>"
            ],
            "text/plain": [
              "Empty DataFrame\n",
              "Columns: [title, year, name, type, character, n]\n",
              "Index: []"
            ]
          },
          "metadata": {
            "tags": []
          },
          "execution_count": 54
        }
      ]
    },
    {
      "cell_type": "markdown",
      "metadata": {
        "collapsed": true,
        "id": "bATN0JT1VkcF"
      },
      "source": [
        "### How many roles were available for actors in the 1950s?"
      ]
    },
    {
      "cell_type": "code",
      "metadata": {
        "id": "F1H7kWhjVkcG",
        "outputId": "b42657e4-bc87-4bfd-dd1c-e72fb56d294b"
      },
      "source": [
        "print(\"Number of roles availabel for actors in the 1950s:\",len(cast[(cast.year == 1950) & (cast.type == 'actor')]))"
      ],
      "execution_count": null,
      "outputs": [
        {
          "output_type": "stream",
          "text": [
            "Number of roles availabel for actors in the 1950s: 16760\n"
          ],
          "name": "stdout"
        }
      ]
    },
    {
      "cell_type": "markdown",
      "metadata": {
        "collapsed": true,
        "id": "H8gtI6r1VkcH"
      },
      "source": [
        "### How many roles were available for actresses in the 1950s?"
      ]
    },
    {
      "cell_type": "code",
      "metadata": {
        "id": "0FwUs7SvVkcI",
        "outputId": "bc5c4e39-3263-4747-a0f6-7d101193e09e"
      },
      "source": [
        "print(\"Number of roles availabel for actresses in the 1950s:\",len(cast[(cast.year == 1950) & (cast.type == 'actress')]))"
      ],
      "execution_count": null,
      "outputs": [
        {
          "output_type": "stream",
          "text": [
            "Number of roles availabel for actresses in the 1950s: 5637\n"
          ],
          "name": "stdout"
        }
      ]
    },
    {
      "cell_type": "markdown",
      "metadata": {
        "collapsed": true,
        "id": "jiXbdfTWVkcJ"
      },
      "source": [
        "### How many leading roles (n=1) were available from the beginning of film history through 1980?"
      ]
    },
    {
      "cell_type": "code",
      "metadata": {
        "id": "wAilkRSWVkcK",
        "outputId": "6677189d-0eba-489e-ad71-ab8d2be9aee5"
      },
      "source": [
        "print(\"Number of leading roles were available from begining of film history through 1980:\",len(cast[(cast.year >= 1980) & (cast.n == 1)]))"
      ],
      "execution_count": null,
      "outputs": [
        {
          "output_type": "stream",
          "text": [
            "Number of leading roles were available from begining of film history through 1980: 89276\n"
          ],
          "name": "stdout"
        }
      ]
    },
    {
      "cell_type": "markdown",
      "metadata": {
        "collapsed": true,
        "id": "mJzQO_2DVkcM"
      },
      "source": [
        "### How many non-leading roles were available through from the beginning of film history through 1980?"
      ]
    },
    {
      "cell_type": "code",
      "metadata": {
        "id": "AXSr8hPVVkcN",
        "outputId": "87461114-6050-411a-8896-b8a514ead9f1"
      },
      "source": [
        "print(\"Number of non-leading roles were available from begining of film history through 1980:\",len(cast[(cast.year >= 1980) & (cast.n != 1)]))"
      ],
      "execution_count": null,
      "outputs": [
        {
          "output_type": "stream",
          "text": [
            "Number of non-leading roles were available from begining of film history through 1980: 2537565\n"
          ],
          "name": "stdout"
        }
      ]
    },
    {
      "cell_type": "markdown",
      "metadata": {
        "collapsed": true,
        "id": "m_1izn8FVkcP"
      },
      "source": [
        "### How many roles through 1980 were minor enough that they did not warrant a numeric \"n\" rank?"
      ]
    },
    {
      "cell_type": "code",
      "metadata": {
        "id": "C1e5dPdYVkcQ",
        "outputId": "73f3b992-6f4d-4e39-c4c5-69daad63624b"
      },
      "source": [
        "print(\"Number of roles through 1980 were minor enough that they did not warrant a numeric n rank:\",len(cast[(cast.year >= 1980) & (cast.n.isnull())]))"
      ],
      "execution_count": null,
      "outputs": [
        {
          "output_type": "stream",
          "text": [
            "Number of roles through 1980 were minor enough that they did not warrant a numeric n rank: 1014692\n"
          ],
          "name": "stdout"
        }
      ]
    }
  ]
}