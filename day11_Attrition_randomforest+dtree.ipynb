{
  "nbformat": 4,
  "nbformat_minor": 0,
  "metadata": {
    "colab": {
      "name": "day11_Attrition_randomforest+dtree.ipynb",
      "provenance": [],
      "authorship_tag": "ABX9TyPHzMLm2sHDzYmXhU7oSb+H",
      "include_colab_link": true
    },
    "kernelspec": {
      "name": "python3",
      "display_name": "Python 3"
    }
  },
  "cells": [
    {
      "cell_type": "markdown",
      "metadata": {
        "id": "view-in-github",
        "colab_type": "text"
      },
      "source": [
        "<a href=\"https://colab.research.google.com/github/Ankipatel8990/LetsUpgrade-AI-ML/blob/master/day11_Attrition_randomforest%2Bdtree.ipynb\" target=\"_parent\"><img src=\"https://colab.research.google.com/assets/colab-badge.svg\" alt=\"Open In Colab\"/></a>"
      ]
    },
    {
      "cell_type": "code",
      "metadata": {
        "id": "nT71Ab_YCaZi"
      },
      "source": [
        "import pandas as pd\n",
        "import numpy as np\n",
        "from sklearn import tree\n",
        "from sklearn import preprocessing\n",
        "from sklearn.ensemble import RandomForestClassifier"
      ],
      "execution_count": null,
      "outputs": []
    },
    {
      "cell_type": "code",
      "metadata": {
        "id": "qzj1cT2rCkbJ"
      },
      "source": [
        "data=pd.read_csv(\"Attrition.csv\")"
      ],
      "execution_count": null,
      "outputs": []
    },
    {
      "cell_type": "code",
      "metadata": {
        "id": "SH6xTCr0Cop9"
      },
      "source": [
        "label_encoder=preprocessing.LabelEncoder()\n",
        "data[\"Attrition\"]=label_encoder.fit_transform(data[\"Attrition\"])\n",
        "data[\"BusinessTravel\"]=label_encoder.fit_transform(data[\"BusinessTravel\"])\n",
        "data[\"Department\"]=label_encoder.fit_transform(data[\"Department\"])\n",
        "data[\"EducationField\"]=label_encoder.fit_transform(data[\"EducationField\"])\n",
        "data[\"Gender\"]=label_encoder.fit_transform(data[\"Gender\"])\n",
        "data[\"JobRole\"]=label_encoder.fit_transform(data[\"JobRole\"])\n",
        "data[\"MaritalStatus\"]=label_encoder.fit_transform(data[\"MaritalStatus\"])"
      ],
      "execution_count": null,
      "outputs": []
    },
    {
      "cell_type": "code",
      "metadata": {
        "id": "GWfoDYAyCwom"
      },
      "source": [
        "data1=data.drop([\"EmployeeCount\",\"EmployeeID\",\"Over18\",\"StandardHours\"],axis=1)"
      ],
      "execution_count": null,
      "outputs": []
    },
    {
      "cell_type": "code",
      "metadata": {
        "id": "iI3lQCCnC-5o",
        "colab": {
          "base_uri": "https://localhost:8080/",
          "height": 136
        },
        "outputId": "10fb8598-7492-4c65-f5b3-7dbc5b6c8e30"
      },
      "source": [
        "data1.columns"
      ],
      "execution_count": null,
      "outputs": [
        {
          "output_type": "execute_result",
          "data": {
            "text/plain": [
              "Index(['Age', 'Attrition', 'BusinessTravel', 'Department', 'DistanceFromHome',\n",
              "       'Education', 'EducationField', 'Gender', 'JobLevel', 'JobRole',\n",
              "       'MaritalStatus', 'MonthlyIncome', 'NumCompaniesWorked',\n",
              "       'PercentSalaryHike', 'StockOptionLevel', 'TotalWorkingYears',\n",
              "       'TrainingTimesLastYear', 'YearsAtCompany', 'YearsSinceLastPromotion',\n",
              "       'YearsWithCurrManager'],\n",
              "      dtype='object')"
            ]
          },
          "metadata": {
            "tags": []
          },
          "execution_count": 6
        }
      ]
    },
    {
      "cell_type": "code",
      "metadata": {
        "id": "IPQ83Nc5DKKb",
        "colab": {
          "base_uri": "https://localhost:8080/",
          "height": 374
        },
        "outputId": "63a42636-f9be-42d0-eccc-4eb75698626e"
      },
      "source": [
        "data1.isna().sum()"
      ],
      "execution_count": null,
      "outputs": [
        {
          "output_type": "execute_result",
          "data": {
            "text/plain": [
              "Age                         0\n",
              "Attrition                   0\n",
              "BusinessTravel              0\n",
              "Department                  0\n",
              "DistanceFromHome            0\n",
              "Education                   0\n",
              "EducationField              0\n",
              "Gender                      0\n",
              "JobLevel                    0\n",
              "JobRole                     0\n",
              "MaritalStatus               0\n",
              "MonthlyIncome               0\n",
              "NumCompaniesWorked         19\n",
              "PercentSalaryHike           0\n",
              "StockOptionLevel            0\n",
              "TotalWorkingYears           9\n",
              "TrainingTimesLastYear       0\n",
              "YearsAtCompany              0\n",
              "YearsSinceLastPromotion     0\n",
              "YearsWithCurrManager        0\n",
              "dtype: int64"
            ]
          },
          "metadata": {
            "tags": []
          },
          "execution_count": 7
        }
      ]
    },
    {
      "cell_type": "code",
      "metadata": {
        "id": "nuGQVByZDR0I"
      },
      "source": [
        "data2=data1.dropna()"
      ],
      "execution_count": null,
      "outputs": []
    },
    {
      "cell_type": "code",
      "metadata": {
        "id": "zdFjpJPPDYUE",
        "colab": {
          "base_uri": "https://localhost:8080/",
          "height": 374
        },
        "outputId": "fa143267-bb5c-4bfd-9e8b-83bd9323010d"
      },
      "source": [
        "data2.isna().sum()"
      ],
      "execution_count": null,
      "outputs": [
        {
          "output_type": "execute_result",
          "data": {
            "text/plain": [
              "Age                        0\n",
              "Attrition                  0\n",
              "BusinessTravel             0\n",
              "Department                 0\n",
              "DistanceFromHome           0\n",
              "Education                  0\n",
              "EducationField             0\n",
              "Gender                     0\n",
              "JobLevel                   0\n",
              "JobRole                    0\n",
              "MaritalStatus              0\n",
              "MonthlyIncome              0\n",
              "NumCompaniesWorked         0\n",
              "PercentSalaryHike          0\n",
              "StockOptionLevel           0\n",
              "TotalWorkingYears          0\n",
              "TrainingTimesLastYear      0\n",
              "YearsAtCompany             0\n",
              "YearsSinceLastPromotion    0\n",
              "YearsWithCurrManager       0\n",
              "dtype: int64"
            ]
          },
          "metadata": {
            "tags": []
          },
          "execution_count": 9
        }
      ]
    },
    {
      "cell_type": "code",
      "metadata": {
        "id": "aJRyBMELDdDX"
      },
      "source": [
        "rf_model=RandomForestClassifier(n_estimators=1000,max_features=2,oob_score=True)"
      ],
      "execution_count": null,
      "outputs": []
    },
    {
      "cell_type": "code",
      "metadata": {
        "id": "2GXSOQ7VDvBL",
        "colab": {
          "base_uri": "https://localhost:8080/",
          "height": 136
        },
        "outputId": "561c2845-7029-400b-96d8-8aeb9da71ea2"
      },
      "source": [
        "data2.columns"
      ],
      "execution_count": null,
      "outputs": [
        {
          "output_type": "execute_result",
          "data": {
            "text/plain": [
              "Index(['Age', 'Attrition', 'BusinessTravel', 'Department', 'DistanceFromHome',\n",
              "       'Education', 'EducationField', 'Gender', 'JobLevel', 'JobRole',\n",
              "       'MaritalStatus', 'MonthlyIncome', 'NumCompaniesWorked',\n",
              "       'PercentSalaryHike', 'StockOptionLevel', 'TotalWorkingYears',\n",
              "       'TrainingTimesLastYear', 'YearsAtCompany', 'YearsSinceLastPromotion',\n",
              "       'YearsWithCurrManager'],\n",
              "      dtype='object')"
            ]
          },
          "metadata": {
            "tags": []
          },
          "execution_count": 11
        }
      ]
    },
    {
      "cell_type": "code",
      "metadata": {
        "id": "d7u0-LdYEeFA",
        "colab": {
          "base_uri": "https://localhost:8080/",
          "height": 255
        },
        "outputId": "bbdac325-804e-4188-ecd8-bef766ccae64"
      },
      "source": [
        "data2.head"
      ],
      "execution_count": null,
      "outputs": [
        {
          "output_type": "execute_result",
          "data": {
            "text/plain": [
              "<bound method NDFrame.head of       Age  Attrition  ...  YearsSinceLastPromotion  YearsWithCurrManager\n",
              "0      51          0  ...                        0                     0\n",
              "1      31          1  ...                        1                     4\n",
              "2      32          0  ...                        0                     3\n",
              "3      38          0  ...                        7                     5\n",
              "4      32          0  ...                        0                     4\n",
              "...   ...        ...  ...                      ...                   ...\n",
              "4404   29          0  ...                        1                     5\n",
              "4405   42          0  ...                        0                     2\n",
              "4406   29          0  ...                        0                     2\n",
              "4407   25          0  ...                        1                     2\n",
              "4408   42          0  ...                        7                     8\n",
              "\n",
              "[4382 rows x 20 columns]>"
            ]
          },
          "metadata": {
            "tags": []
          },
          "execution_count": 11
        }
      ]
    },
    {
      "cell_type": "code",
      "metadata": {
        "id": "JAiUk8WUDi2o"
      },
      "source": [
        "features=[\"Age\",\"BusinessTravel\",\"Department\",\"DistanceFromHome\",\n",
        "       \"Education\",\"EducationField\",\"Gender\",\"JobLevel\",\"JobRole\",\n",
        "       \"MaritalStatus\",\"MonthlyIncome\",\"NumCompaniesWorked\",\n",
        "       \"PercentSalaryHike\", \"StockOptionLevel\", \"TotalWorkingYears\",\n",
        "       \"TrainingTimesLastYear\", \"YearsAtCompany\", \"YearsSinceLastPromotion\",\n",
        "       \"YearsWithCurrManager\"]"
      ],
      "execution_count": null,
      "outputs": []
    },
    {
      "cell_type": "code",
      "metadata": {
        "id": "svh-5qP1FF_G",
        "colab": {
          "base_uri": "https://localhost:8080/",
          "height": 153
        },
        "outputId": "976c3d89-302d-478a-ee15-c7a3ec5617a6"
      },
      "source": [
        "rf_model.fit(X=data2[features],y=data2[\"Attrition\"])"
      ],
      "execution_count": null,
      "outputs": [
        {
          "output_type": "execute_result",
          "data": {
            "text/plain": [
              "RandomForestClassifier(bootstrap=True, ccp_alpha=0.0, class_weight=None,\n",
              "                       criterion='gini', max_depth=None, max_features=2,\n",
              "                       max_leaf_nodes=None, max_samples=None,\n",
              "                       min_impurity_decrease=0.0, min_impurity_split=None,\n",
              "                       min_samples_leaf=1, min_samples_split=2,\n",
              "                       min_weight_fraction_leaf=0.0, n_estimators=1000,\n",
              "                       n_jobs=None, oob_score=True, random_state=None,\n",
              "                       verbose=0, warm_start=False)"
            ]
          },
          "metadata": {
            "tags": []
          },
          "execution_count": 13
        }
      ]
    },
    {
      "cell_type": "code",
      "metadata": {
        "id": "B32xYplyFz5i",
        "colab": {
          "base_uri": "https://localhost:8080/",
          "height": 34
        },
        "outputId": "bcc48c74-d63b-4ac3-e75b-9df7e79e7d8d"
      },
      "source": [
        "data2[\"Age\"].dtype"
      ],
      "execution_count": null,
      "outputs": [
        {
          "output_type": "execute_result",
          "data": {
            "text/plain": [
              "dtype('int64')"
            ]
          },
          "metadata": {
            "tags": []
          },
          "execution_count": 21
        }
      ]
    },
    {
      "cell_type": "code",
      "metadata": {
        "id": "67NBwZHrIqhU",
        "colab": {
          "base_uri": "https://localhost:8080/",
          "height": 51
        },
        "outputId": "0dbd41fd-ef5d-4bf7-aeb5-ec01d94d94cb"
      },
      "source": [
        "print(\"OOB Accuracy:\")\n",
        "print(rf_model.oob_score_);"
      ],
      "execution_count": null,
      "outputs": [
        {
          "output_type": "stream",
          "text": [
            "OOB Accuracy:\n",
            "1.0\n"
          ],
          "name": "stdout"
        }
      ]
    },
    {
      "cell_type": "code",
      "metadata": {
        "id": "kcHJiaW1JaLo",
        "colab": {
          "base_uri": "https://localhost:8080/",
          "height": 340
        },
        "outputId": "9f986934-87a6-4649-c1b3-4cbdf0ec1e38"
      },
      "source": [
        "for feature,imp in zip(features,rf_model.feature_importances_):\n",
        "  print(feature,imp);"
      ],
      "execution_count": null,
      "outputs": [
        {
          "output_type": "stream",
          "text": [
            "Age 0.09710732786678938\n",
            "BusinessTravel 0.028166520673963726\n",
            "Department 0.02557288209838804\n",
            "DistanceFromHome 0.06949451123401759\n",
            "Education 0.041098051967000136\n",
            "EducationField 0.04053462195875111\n",
            "Gender 0.018426736454478395\n",
            "JobLevel 0.0374495681517741\n",
            "JobRole 0.055555170062233\n",
            "MaritalStatus 0.03966758067573134\n",
            "MonthlyIncome 0.09529006857049195\n",
            "NumCompaniesWorked 0.056123061339339954\n",
            "PercentSalaryHike 0.064688497483742\n",
            "StockOptionLevel 0.033985635055029745\n",
            "TotalWorkingYears 0.08684071956722218\n",
            "TrainingTimesLastYear 0.04475124895661871\n",
            "YearsAtCompany 0.0677910830762014\n",
            "YearsSinceLastPromotion 0.04351830185097467\n",
            "YearsWithCurrManager 0.053938412957252484\n"
          ],
          "name": "stdout"
        }
      ]
    },
    {
      "cell_type": "markdown",
      "metadata": {
        "id": "TRoMtl07dQ-_"
      },
      "source": [
        "#after performing Randomforest,finalised varible for decisiontree are Age,MonthlyIncome,TotalWorkingYears."
      ]
    },
    {
      "cell_type": "markdown",
      "metadata": {
        "id": "Opa4Gbu3dHy5"
      },
      "source": [
        "# lets build Decision tree algorithm #"
      ]
    },
    {
      "cell_type": "code",
      "metadata": {
        "id": "6-ACH697eETW"
      },
      "source": [
        "from sklearn import tree"
      ],
      "execution_count": null,
      "outputs": []
    },
    {
      "cell_type": "code",
      "metadata": {
        "id": "kPDJgsehKEUe"
      },
      "source": [
        "tree_model=tree.DecisionTreeClassifier(max_depth=6,max_leaf_nodes=10)"
      ],
      "execution_count": null,
      "outputs": []
    },
    {
      "cell_type": "code",
      "metadata": {
        "id": "QUP-VoRWKIlJ"
      },
      "source": [
        "predictors=pd.DataFrame([data2[\"Age\"],data2[\"MonthlyIncome\"],data2[\"TotalWorkingYears\"]]).T"
      ],
      "execution_count": null,
      "outputs": []
    },
    {
      "cell_type": "code",
      "metadata": {
        "id": "D7xF_JVwfpJY",
        "colab": {
          "base_uri": "https://localhost:8080/",
          "height": 119
        },
        "outputId": "ea908616-fb61-44c6-89dc-9b305fa05d83"
      },
      "source": [
        "tree_model.fit(X=predictors,y=data2[\"Attrition\"])"
      ],
      "execution_count": null,
      "outputs": [
        {
          "output_type": "execute_result",
          "data": {
            "text/plain": [
              "DecisionTreeClassifier(ccp_alpha=0.0, class_weight=None, criterion='gini',\n",
              "                       max_depth=6, max_features=None, max_leaf_nodes=10,\n",
              "                       min_impurity_decrease=0.0, min_impurity_split=None,\n",
              "                       min_samples_leaf=1, min_samples_split=2,\n",
              "                       min_weight_fraction_leaf=0.0, presort='deprecated',\n",
              "                       random_state=None, splitter='best')"
            ]
          },
          "metadata": {
            "tags": []
          },
          "execution_count": 18
        }
      ]
    },
    {
      "cell_type": "code",
      "metadata": {
        "id": "QMIiSHtNNHGr"
      },
      "source": [
        "with open(\"Dtree.dot\",'w') as f:\n",
        "  f=tree.export_graphviz(tree_model,feature_names=[\"Age\",\"MonthlyIncome\",\"TotalWorkingYears\"],out_file=f);"
      ],
      "execution_count": null,
      "outputs": []
    }
  ]
}