{
 "cells": [
  {
   "cell_type": "markdown",
   "metadata": {},
   "source": [
    "Question 1 :\n",
    "Research on whether addition, subtraction, multiplication, division, floor division and modulo\n",
    "operations be performed on complex numbers."
   ]
  },
  {
   "cell_type": "code",
   "execution_count": 1,
   "metadata": {},
   "outputs": [
    {
     "name": "stdout",
     "output_type": "stream",
     "text": [
      "89\n"
     ]
    }
   ],
   "source": [
    "#Addition\n",
    "a=34\n",
    "b=55\n",
    "c=a+b\n",
    "print(c)"
   ]
  },
  {
   "cell_type": "code",
   "execution_count": 2,
   "metadata": {},
   "outputs": [
    {
     "name": "stdout",
     "output_type": "stream",
     "text": [
      "result 20\n"
     ]
    }
   ],
   "source": [
    "#Subtraction\n",
    "a= 30\n",
    "b=10\n",
    "c=a-b\n",
    "print(\"result\",c)"
   ]
  },
  {
   "cell_type": "code",
   "execution_count": 4,
   "metadata": {},
   "outputs": [
    {
     "name": "stdout",
     "output_type": "stream",
     "text": [
      "result 7.5\n"
     ]
    }
   ],
   "source": [
    "#multiplicaation\n",
    "a=3\n",
    "b=2.5\n",
    "c=a*b\n",
    "print(\"result\",c)"
   ]
  },
  {
   "cell_type": "code",
   "execution_count": 5,
   "metadata": {},
   "outputs": [
    {
     "name": "stdout",
     "output_type": "stream",
     "text": [
      "2.0\n"
     ]
    }
   ],
   "source": [
    "#division\n",
    "a=10\n",
    "b=5\n",
    "c=a/b\n",
    "print(c)"
   ]
  },
  {
   "cell_type": "code",
   "execution_count": 6,
   "metadata": {},
   "outputs": [
    {
     "name": "stdout",
     "output_type": "stream",
     "text": [
      "-2\n"
     ]
    }
   ],
   "source": [
    "#floor division\n",
    "a=20\n",
    "b= -10\n",
    "c=a//b\n",
    "print(c)"
   ]
  },
  {
   "cell_type": "code",
   "execution_count": 7,
   "metadata": {},
   "outputs": [
    {
     "name": "stdout",
     "output_type": "stream",
     "text": [
      "0\n"
     ]
    }
   ],
   "source": [
    "#Modulo \n",
    "a=10\n",
    "b=2\n",
    "c=a%b\n",
    "print(c)"
   ]
  },
  {
   "cell_type": "code",
   "execution_count": 8,
   "metadata": {},
   "outputs": [
    {
     "name": "stdout",
     "output_type": "stream",
     "text": [
      "1\n"
     ]
    }
   ],
   "source": [
    "#modulo\n",
    "a=13\n",
    "b=2\n",
    "c=a%b\n",
    "print(c)"
   ]
  },
  {
   "cell_type": "markdown",
   "metadata": {},
   "source": [
    "# Question 2 : Research on range() functions and its parameters. Create a markdown cell and write in your own words (no copy-paste from google please) what you understand about it. Implement a small program of your choice on the same."
   ]
  },
  {
   "cell_type": "markdown",
   "metadata": {},
   "source": [
    "range() function use in Loop. It is not used in general function. it is used in for loop function to give a range.\n",
    "lets understand it with one algorithm:"
   ]
  },
  {
   "cell_type": "code",
   "execution_count": 9,
   "metadata": {},
   "outputs": [
    {
     "name": "stdout",
     "output_type": "stream",
     "text": [
      "0\n",
      "1\n",
      "2\n",
      "3\n",
      "4\n"
     ]
    }
   ],
   "source": [
    "# Example : 1\n",
    "for i in range(5):\n",
    "    print(i)"
   ]
  },
  {
   "cell_type": "code",
   "execution_count": 10,
   "metadata": {},
   "outputs": [
    {
     "name": "stdout",
     "output_type": "stream",
     "text": [
      "2\n",
      "4\n",
      "6\n",
      "8\n"
     ]
    }
   ],
   "source": [
    "# Example 2\n",
    "\n",
    "for i in range(2,10,2):\n",
    "    print(i)"
   ]
  },
  {
   "cell_type": "code",
   "execution_count": 12,
   "metadata": {},
   "outputs": [
    {
     "name": "stdout",
     "output_type": "stream",
     "text": [
      "sum 0\n",
      "sum 1\n",
      "sum 3\n",
      "sum 6\n",
      "sum 10\n"
     ]
    }
   ],
   "source": [
    "#Example 3\n",
    "sum=0\n",
    "for i in range(5):\n",
    "    sum=sum+i\n",
    "    print(\"sum\",sum)\n"
   ]
  },
  {
   "cell_type": "code",
   "execution_count": 15,
   "metadata": {},
   "outputs": [
    {
     "name": "stdout",
     "output_type": "stream",
     "text": [
      "\n",
      "\n",
      "*\n",
      "\n",
      "**\n",
      "\n",
      "***\n",
      "\n",
      "****\n",
      "\n"
     ]
    }
   ],
   "source": [
    "#example 4\n",
    "for i in range(5):\n",
    "    for j in range(i):\n",
    "        print(\"*\",end=\"\")\n",
    "    print(\"\\n\")"
   ]
  },
  {
   "cell_type": "markdown",
   "metadata": {},
   "source": [
    "# Question 3:\n",
    "Consider two numbers. Perform their subtraction and if the result of subtraction is greater than\n",
    "25, print their multiplication result else print their division result."
   ]
  },
  {
   "cell_type": "code",
   "execution_count": 25,
   "metadata": {},
   "outputs": [
    {
     "name": "stdout",
     "output_type": "stream",
     "text": [
      "Division result 5.0\n"
     ]
    }
   ],
   "source": [
    "#Method 1\n",
    "a= 25\n",
    "b=5\n",
    "c=a-b\n",
    "if c>25:\n",
    "    d=a*b\n",
    "    print(\"Multiplication result\",d)\n",
    "else:\n",
    "    e=a/b\n",
    "    print(\"Division result\",e)\n"
   ]
  },
  {
   "cell_type": "code",
   "execution_count": 26,
   "metadata": {},
   "outputs": [
    {
     "name": "stdout",
     "output_type": "stream",
     "text": [
      "Multiplication result 500\n"
     ]
    }
   ],
   "source": [
    "#Method 1\n",
    "a= 50\n",
    "b=10\n",
    "c=a-b\n",
    "if c>25:\n",
    "    d=a*b\n",
    "    print(\"Multiplication result\",d)\n",
    "else:\n",
    "    e=a/b\n",
    "    print(\"Division result\",e)"
   ]
  },
  {
   "cell_type": "code",
   "execution_count": 27,
   "metadata": {},
   "outputs": [
    {
     "name": "stdout",
     "output_type": "stream",
     "text": [
      "30\n",
      "10\n",
      "Division result 3.0\n"
     ]
    }
   ],
   "source": [
    "#Method 2\n",
    "a=int(input())\n",
    "b=int(input())\n",
    "c=a-b\n",
    "if c>25:\n",
    "    d=a*b\n",
    "    print(\"Multiplication result\",d)\n",
    "else:\n",
    "    e=a/b\n",
    "    print(\"Division result\",e)"
   ]
  },
  {
   "cell_type": "markdown",
   "metadata": {},
   "source": [
    "# Question 4:\n",
    "Consider a list of 10 elements of integer values. If the number in the list is divisible by 2, print the\n",
    "result as \"square of that number minus 2\"."
   ]
  },
  {
   "cell_type": "code",
   "execution_count": 34,
   "metadata": {},
   "outputs": [
    {
     "name": "stdout",
     "output_type": "stream",
     "text": [
      "square of that number minus 2\n",
      "square of that number minus 2\n",
      "25\n",
      "square of that number minus 2\n",
      "square of that number minus 2\n",
      "45\n",
      "square of that number minus 2\n",
      "23\n",
      "67\n",
      "square of that number minus 2\n"
     ]
    }
   ],
   "source": [
    "n=[10,20,25,30,40,45,50,23,67,70]\n",
    "for i in n:\n",
    "    if (i%2==0):\n",
    "        print(\"square of that number minus 2\")\n",
    "    else:\n",
    "        print (i)"
   ]
  },
  {
   "cell_type": "markdown",
   "metadata": {},
   "source": [
    "# Question 5:\n",
    "Consider a list of 10 elements. Print all the elements in the list which are greater than 7 when that\n",
    "number is divided 2."
   ]
  },
  {
   "cell_type": "code",
   "execution_count": 35,
   "metadata": {},
   "outputs": [
    {
     "name": "stdout",
     "output_type": "stream",
     "text": [
      "less than 7\n",
      "less than 7\n",
      "10\n",
      "20\n",
      "30\n",
      "40\n",
      "less than 7\n",
      "35\n",
      "22\n",
      "90\n"
     ]
    }
   ],
   "source": [
    "n=[1,4,10,20,30,40,5,35,22,90]\n",
    "for i in n:\n",
    "    if(i>7):\n",
    "        d=i%2==0\n",
    "        print(i)\n",
    "    else:\n",
    "        print(\"less than 7\")\n",
    "        "
   ]
  },
  {
   "cell_type": "code",
   "execution_count": null,
   "metadata": {},
   "outputs": [],
   "source": []
  }
 ],
 "metadata": {
  "kernelspec": {
   "display_name": "Python 3",
   "language": "python",
   "name": "python3"
  },
  "language_info": {
   "codemirror_mode": {
    "name": "ipython",
    "version": 3
   },
   "file_extension": ".py",
   "mimetype": "text/x-python",
   "name": "python",
   "nbconvert_exporter": "python",
   "pygments_lexer": "ipython3",
   "version": "3.7.3"
  }
 },
 "nbformat": 4,
 "nbformat_minor": 2
}
