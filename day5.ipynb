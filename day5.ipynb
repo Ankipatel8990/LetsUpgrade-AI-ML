{
 "cells": [
  {
   "cell_type": "markdown",
   "metadata": {},
   "source": [
    "# Question 1 :\n",
    "Write a Python program to find the first 20 non-even prime natural numbers."
   ]
  },
  {
   "cell_type": "markdown",
   "metadata": {},
   "source": [
    "# for val in range(2,100+1):\n",
    "    if val>1:\n",
    "        for n in range(2,val):\n",
    "            if val%n==0:\n",
    "               break\n",
    "        else:\n",
    "                print(val)  \n",
    "   \n",
    "    \n"
   ]
  },
  {
   "cell_type": "markdown",
   "metadata": {},
   "source": [
    "# Question 2 :\n",
    "Write a Python program to implement 15 functions of string"
   ]
  },
  {
   "cell_type": "code",
   "execution_count": 37,
   "metadata": {},
   "outputs": [
    {
     "name": "stdout",
     "output_type": "stream",
     "text": [
      "Hi world I am learning AI-ML\n",
      "hi world \n",
      "I AM LEARNING AI-ML\n",
      "False\n",
      "Hey world \n",
      "9\n",
      "3\n",
      "Hi world \n",
      "['Hi', 'world']\n",
      "HHi world iHi world  Hi world wHi world oHi world rHi world lHi world dHi world  \n",
      "IHi world  Hi world aHi world mHi world  Hi world lHi world eHi world aHi world rHi world nHi world iHi world nHi world gHi world  Hi world AHi world IHi world -Hi world MHi world L\n",
      "False\n",
      "False\n",
      "b'Hi world '\n",
      "1\n",
      "2\n"
     ]
    }
   ],
   "source": [
    "a= \"Hi world \"\n",
    "b=\"I am learning AI-ML\"\n",
    "print(a+b)\n",
    "print(a.lower())\n",
    "print(b.upper())\n",
    "print(a.isalpha())\n",
    "print(a.replace('i','ey'))\n",
    "print(len(a))\n",
    "print(a.find('w'))\n",
    "print(a.format())\n",
    "print(a.split())\n",
    "print(a.join(a))\n",
    "print(a.join(b))\n",
    "print(b.isupper())\n",
    "print(a.isnumeric())\n",
    "print(a.encode())\n",
    "print(a.count('H'))\n",
    "print(b.count('n'))"
   ]
  },
  {
   "cell_type": "markdown",
   "metadata": {},
   "source": [
    "# Question 3:\n",
    "Write a Python program to check if the given string is a Palindrome or Anagram or None of them.\n",
    "Display the message accordingly to the user.\n"
   ]
  },
  {
   "cell_type": "code",
   "execution_count": 28,
   "metadata": {},
   "outputs": [
    {
     "name": "stdout",
     "output_type": "stream",
     "text": [
      "str is Palindrome\n"
     ]
    }
   ],
   "source": [
    "str=\"malayalam\"\n",
    "if str[1:8]==str[-8:-1]:\n",
    "        \n",
    "        print(\"str is Palindrome\")\n",
    "        \n",
    "else:\n",
    "         print(\"str is Anagram\")\n"
   ]
  },
  {
   "cell_type": "markdown",
   "metadata": {},
   "source": [
    "# Question 4:\n",
    "Write a Python's user defined function that removes all the additional characters from the string\n",
    "and converts it finally to lower case using built-in lower(). eg: If the string is \"Dr. Darshan Ingle\n",
    "@AI-ML Trainer\", then the output be \"drdarshaningleaimltraine"
   ]
  },
  {
   "cell_type": "code",
   "execution_count": 43,
   "metadata": {},
   "outputs": [
    {
     "name": "stdout",
     "output_type": "stream",
     "text": [
      "Original String : Dr. Darshan Ingle @AI-ML Trainer\n",
      "Resultant list is : drdarshaningleaimltrainer\n"
     ]
    }
   ],
   "source": [
    "test_string=\"Dr. Darshan Ingle @AI-ML Trainer\"\n",
    "remove_chars = ['.', '@', '-',' '] \n",
    "print (\"Original String : \" + test_string) \n",
    "for i in remove_chars : \n",
    "    test_string = test_string.replace(i, '')\n",
    "print (\"Resultant list is : \" + test_string.casefold()) \n"
   ]
  },
  {
   "cell_type": "code",
   "execution_count": null,
   "metadata": {},
   "outputs": [],
   "source": []
  }
 ],
 "metadata": {
  "kernelspec": {
   "display_name": "Python 3",
   "language": "python",
   "name": "python3"
  },
  "language_info": {
   "codemirror_mode": {
    "name": "ipython",
    "version": 3
   },
   "file_extension": ".py",
   "mimetype": "text/x-python",
   "name": "python",
   "nbconvert_exporter": "python",
   "pygments_lexer": "ipython3",
   "version": "3.7.3"
  }
 },
 "nbformat": 4,
 "nbformat_minor": 2
}
