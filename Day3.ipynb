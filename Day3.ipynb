{
  "nbformat": 4,
  "nbformat_minor": 0,
  "metadata": {
    "colab": {
      "name": "Day3.ipynb",
      "provenance": [],
      "collapsed_sections": []
    },
    "kernelspec": {
      "name": "python3",
      "display_name": "Python 3"
    }
  },
  "cells": [
    {
      "cell_type": "code",
      "metadata": {
        "id": "reajHyHU7nxR",
        "colab_type": "code",
        "colab": {
          "base_uri": "https://localhost:8080/",
          "height": 34
        },
        "outputId": "488fe385-c733-40c5-e5df-00b203a18268"
      },
      "source": [
        "#Q.1 SUBSTRACTION\n",
        "A=5\n",
        "B=10\n",
        "C=B-A\n",
        "print(C)"
      ],
      "execution_count": 4,
      "outputs": [
        {
          "output_type": "stream",
          "text": [
            "5\n"
          ],
          "name": "stdout"
        }
      ]
    },
    {
      "cell_type": "code",
      "metadata": {
        "id": "FQDf3pXESC11",
        "colab_type": "code",
        "colab": {}
      },
      "source": [
        ""
      ],
      "execution_count": null,
      "outputs": []
    },
    {
      "cell_type": "code",
      "metadata": {
        "id": "K8rH-R0vNGYa",
        "colab_type": "code",
        "colab": {
          "base_uri": "https://localhost:8080/",
          "height": 34
        },
        "outputId": "6e6a8cd4-c746-4ac1-c72c-64fc60ea1bc1"
      },
      "source": [
        "# Q.2 Fourth root\n",
        "a=2**4\n",
        "print(a)"
      ],
      "execution_count": 28,
      "outputs": [
        {
          "output_type": "stream",
          "text": [
            "16\n"
          ],
          "name": "stdout"
        }
      ]
    },
    {
      "cell_type": "code",
      "metadata": {
        "id": "4nPiwTsW9yvB",
        "colab_type": "code",
        "colab": {
          "base_uri": "https://localhost:8080/",
          "height": 51
        },
        "outputId": "31bf6daa-c803-4960-c377-72a4646cf61f"
      },
      "source": [
        "# Q.3 SWAP WITH TEMP VARIABLE\n",
        "a=10\n",
        "b=2\n",
        "temp=a\n",
        "a=b\n",
        "b=temp\n",
        "print(\"value of a\",a)\n",
        "print(\"value of b\",b)"
      ],
      "execution_count": 10,
      "outputs": [
        {
          "output_type": "stream",
          "text": [
            "value of a 2\n",
            "value of b 10\n"
          ],
          "name": "stdout"
        }
      ]
    },
    {
      "cell_type": "code",
      "metadata": {
        "id": "YWSlMrWx-W20",
        "colab_type": "code",
        "colab": {
          "base_uri": "https://localhost:8080/",
          "height": 51
        },
        "outputId": "6013e607-225a-4d04-d41f-e7b26802b355"
      },
      "source": [
        "#Q.4 SWAP WITHOUT TEMP VARIAVBLE\n",
        "a=10\n",
        "b=20\n",
        "a=a+b # 30\n",
        "b=a-b #10\n",
        "a=a-b #20\n",
        "print(\"value of a =\",a)\n",
        "print(\"value of b =\",b)"
      ],
      "execution_count": 15,
      "outputs": [
        {
          "output_type": "stream",
          "text": [
            "value of a = 20\n",
            "value of b = 10\n"
          ],
          "name": "stdout"
        }
      ]
    },
    {
      "cell_type": "markdown",
      "metadata": {
        "id": "CWQYN7fSBIGM",
        "colab_type": "text"
      },
      "source": [
        "**Q.5  convert fahrenheit to kelvin and celsius both.**\n"
      ]
    },
    {
      "cell_type": "code",
      "metadata": {
        "id": "scy6o8XFBUjh",
        "colab_type": "code",
        "colab": {
          "base_uri": "https://localhost:8080/",
          "height": 34
        },
        "outputId": "04fd24e9-e5eb-43a5-b5f3-a0a14ebb5c9b"
      },
      "source": [
        " #convert fahrenheit to kelvin \n",
        "F=100\n",
        "K = 273.5 + ((F - 32.0) * (5.0/9.0))\n",
        "print(\"fahrenheit to kelvin\",K)\n",
        "\n"
      ],
      "execution_count": 16,
      "outputs": [
        {
          "output_type": "stream",
          "text": [
            "fahrenheit to kelvin 311.27777777777777\n"
          ],
          "name": "stdout"
        }
      ]
    },
    {
      "cell_type": "code",
      "metadata": {
        "id": "gA4XopSJEt7h",
        "colab_type": "code",
        "colab": {
          "base_uri": "https://localhost:8080/",
          "height": 34
        },
        "outputId": "350f17e9-674d-4154-9183-95d9b093b7ee"
      },
      "source": [
        "#convert fahrenheit to celsius\n",
        "F=99\n",
        "C=(F-32) * 5/9\n",
        "print(\"fahrenheit to celsius\",C)"
      ],
      "execution_count": 21,
      "outputs": [
        {
          "output_type": "stream",
          "text": [
            "fahrenheit to celsius 37.22222222222222\n"
          ],
          "name": "stdout"
        }
      ]
    },
    {
      "cell_type": "markdown",
      "metadata": {
        "id": "xQYytDM3HAKg",
        "colab_type": "text"
      },
      "source": [
        "**Q.6 Write a program to demonstrate all the available data types in Python.**\n"
      ]
    },
    {
      "cell_type": "code",
      "metadata": {
        "id": "ZuII8bV9HUOb",
        "colab_type": "code",
        "colab": {
          "base_uri": "https://localhost:8080/",
          "height": 34
        },
        "outputId": "1c0927ff-e3e8-4b62-d48a-4d83fbd297dc"
      },
      "source": [
        "a=10\n",
        "type(a)"
      ],
      "execution_count": 22,
      "outputs": [
        {
          "output_type": "execute_result",
          "data": {
            "text/plain": [
              "int"
            ]
          },
          "metadata": {
            "tags": []
          },
          "execution_count": 22
        }
      ]
    },
    {
      "cell_type": "code",
      "metadata": {
        "id": "0w4jTqEkHaAt",
        "colab_type": "code",
        "colab": {
          "base_uri": "https://localhost:8080/",
          "height": 34
        },
        "outputId": "ec8e356c-5af4-4999-8b19-4ad6cc68d47a"
      },
      "source": [
        "a='Ankita'\n",
        "type(a)"
      ],
      "execution_count": 23,
      "outputs": [
        {
          "output_type": "execute_result",
          "data": {
            "text/plain": [
              "str"
            ]
          },
          "metadata": {
            "tags": []
          },
          "execution_count": 23
        }
      ]
    },
    {
      "cell_type": "code",
      "metadata": {
        "id": "CZANXHgCHiRn",
        "colab_type": "code",
        "colab": {
          "base_uri": "https://localhost:8080/",
          "height": 34
        },
        "outputId": "15879c5d-aeb9-4dbd-ab2a-ec5d1cd0f5ed"
      },
      "source": [
        "a=33.45\n",
        "type(a)"
      ],
      "execution_count": 25,
      "outputs": [
        {
          "output_type": "execute_result",
          "data": {
            "text/plain": [
              "float"
            ]
          },
          "metadata": {
            "tags": []
          },
          "execution_count": 25
        }
      ]
    },
    {
      "cell_type": "code",
      "metadata": {
        "id": "x8kfi45FIj6A",
        "colab_type": "code",
        "colab": {
          "base_uri": "https://localhost:8080/",
          "height": 34
        },
        "outputId": "bf49a4f0-89a9-4367-f7d8-78de11e724fc"
      },
      "source": [
        "a=20/7/2019\n",
        "type(a)"
      ],
      "execution_count": 26,
      "outputs": [
        {
          "output_type": "execute_result",
          "data": {
            "text/plain": [
              "float"
            ]
          },
          "metadata": {
            "tags": []
          },
          "execution_count": 26
        }
      ]
    },
    {
      "cell_type": "code",
      "metadata": {
        "id": "uAG3MC0FItfw",
        "colab_type": "code",
        "colab": {
          "base_uri": "https://localhost:8080/",
          "height": 34
        },
        "outputId": "dbb57bf8-513b-43b8-c2db-8a129dfe3acc"
      },
      "source": [
        "a=\"20/7/2019\"\n",
        "type(a)"
      ],
      "execution_count": 27,
      "outputs": [
        {
          "output_type": "execute_result",
          "data": {
            "text/plain": [
              "str"
            ]
          },
          "metadata": {
            "tags": []
          },
          "execution_count": 27
        }
      ]
    },
    {
      "cell_type": "markdown",
      "metadata": {
        "id": "qtAkr4YgJUf1",
        "colab_type": "text"
      },
      "source": [
        "**Q.7 Create a Markdown cell in jupyter and list the steps discussed in the session to create Github profile and upload Githubs Assignment link.**"
      ]
    },
    {
      "cell_type": "markdown",
      "metadata": {
        "id": "BL2sE-TcQrhu",
        "colab_type": "text"
      },
      "source": [
        "\n",
        "\n",
        "1.   SIGN UP FOR GITHUB ACCOUNT\n",
        "2.   SELECT NEW option\n",
        "3.   Select Repository Name\n",
        "4.   Give Repository name : LetsUpgrade AI-ML\n",
        "5.   In Description  : Assignment\n",
        "6.   Do not change anything in form\n",
        "7.   click on CREATE REPOSITORY\n",
        "8.   NOW LetsUp grade AI-ML FORM has been created \n",
        "9.   now click on upload existing file \n",
        "10.  drag the file over here\n",
        "11.  click Commit changes option.\n",
        "\n"
      ]
    }
  ]
}