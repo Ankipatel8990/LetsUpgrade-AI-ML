{
  "nbformat": 4,
  "nbformat_minor": 0,
  "metadata": {
    "colab": {
      "name": "Day 8 Stastical  Learning :Descriptive analysis.ipynb",
      "provenance": [],
      "authorship_tag": "ABX9TyOW2vu1V+RSN3XecF/XJyBM",
      "include_colab_link": true
    },
    "kernelspec": {
      "name": "python3",
      "display_name": "Python 3"
    }
  },
  "cells": [
    {
      "cell_type": "markdown",
      "metadata": {
        "id": "view-in-github",
        "colab_type": "text"
      },
      "source": [
        "<a href=\"https://colab.research.google.com/github/Ankipatel8990/LetsUpgrade-AI-ML/blob/master/Day_8_Stastical_Learning_Descriptive_analysis.ipynb\" target=\"_parent\"><img src=\"https://colab.research.google.com/assets/colab-badge.svg\" alt=\"Open In Colab\"/></a>"
      ]
    },
    {
      "cell_type": "markdown",
      "metadata": {
        "id": "9h384_OGFKrp",
        "colab_type": "text"
      },
      "source": [
        "Central Tendency:\n",
        "------------------\n",
        "-> Mean - Average\n",
        "-> Median - Middle\n",
        "-> mode - most frequently occuring value\n",
        "\n",
        "Dispersion:\n",
        "-----------\n",
        "Variance -> Variation is there in the dataset\n",
        "Std Deviation -> Consistency of the data\n",
        "Percentile -> Relative performance\n",
        "Quantile -> Quaterly basis\n",
        "\n",
        "Distribution of Shape:\n",
        "--------------------\n",
        "Skewness -> Symentric\n",
        "Krutosis -> Peakness\n",
        "\n",
        "Outlier:\n",
        "--------\n",
        "Box Plot\n",
        "Scatter Diagram"
      ]
    },
    {
      "cell_type": "code",
      "metadata": {
        "id": "ajWfG_X-FOEz",
        "colab_type": "code",
        "colab": {}
      },
      "source": [
        "import pandas as pd"
      ],
      "execution_count": 2,
      "outputs": []
    },
    {
      "cell_type": "code",
      "metadata": {
        "id": "2ttPuS_sGdzV",
        "colab_type": "code",
        "colab": {}
      },
      "source": [
        "dataset=pd.read_excel('Descriptive Statistics.xlsx',sheet_name=0)"
      ],
      "execution_count": 27,
      "outputs": []
    },
    {
      "cell_type": "code",
      "metadata": {
        "id": "GB1m_yGuR5Vy",
        "colab_type": "code",
        "colab": {
          "base_uri": "https://localhost:8080/",
          "height": 323
        },
        "outputId": "790b5e96-f190-4c65-fdb6-b1d8bf0f33ab"
      },
      "source": [
        "dataset.info()"
      ],
      "execution_count": 28,
      "outputs": [
        {
          "output_type": "stream",
          "text": [
            "<class 'pandas.core.frame.DataFrame'>\n",
            "RangeIndex: 474 entries, 0 to 473\n",
            "Data columns (total 11 columns):\n",
            " #   Column         Non-Null Count  Dtype  \n",
            "---  ------         --------------  -----  \n",
            " 0   ID             474 non-null    int64  \n",
            " 1   Gender         474 non-null    object \n",
            " 2   Birth Date     473 non-null    object \n",
            " 3   Education      474 non-null    int64  \n",
            " 4   JobCategory    474 non-null    int64  \n",
            " 5   CurrentSalary  474 non-null    int64  \n",
            " 6   After6Months   474 non-null    float64\n",
            " 7   SalBegin       474 non-null    int64  \n",
            " 8   Job Time       474 non-null    int64  \n",
            " 9   Prev Exep      474 non-null    int64  \n",
            " 10  Minority       474 non-null    int64  \n",
            "dtypes: float64(1), int64(8), object(2)\n",
            "memory usage: 40.9+ KB\n"
          ],
          "name": "stdout"
        }
      ]
    },
    {
      "cell_type": "code",
      "metadata": {
        "id": "E-m2dkkMSSjw",
        "colab_type": "code",
        "colab": {
          "base_uri": "https://localhost:8080/",
          "height": 204
        },
        "outputId": "f3ac5d1a-db2c-45c5-c034-0b8c1e21bfe3"
      },
      "source": [
        "dataset.head()"
      ],
      "execution_count": 29,
      "outputs": [
        {
          "output_type": "execute_result",
          "data": {
            "text/html": [
              "<div>\n",
              "<style scoped>\n",
              "    .dataframe tbody tr th:only-of-type {\n",
              "        vertical-align: middle;\n",
              "    }\n",
              "\n",
              "    .dataframe tbody tr th {\n",
              "        vertical-align: top;\n",
              "    }\n",
              "\n",
              "    .dataframe thead th {\n",
              "        text-align: right;\n",
              "    }\n",
              "</style>\n",
              "<table border=\"1\" class=\"dataframe\">\n",
              "  <thead>\n",
              "    <tr style=\"text-align: right;\">\n",
              "      <th></th>\n",
              "      <th>ID</th>\n",
              "      <th>Gender</th>\n",
              "      <th>Birth Date</th>\n",
              "      <th>Education</th>\n",
              "      <th>JobCategory</th>\n",
              "      <th>CurrentSalary</th>\n",
              "      <th>After6Months</th>\n",
              "      <th>SalBegin</th>\n",
              "      <th>Job Time</th>\n",
              "      <th>Prev Exep</th>\n",
              "      <th>Minority</th>\n",
              "    </tr>\n",
              "  </thead>\n",
              "  <tbody>\n",
              "    <tr>\n",
              "      <th>0</th>\n",
              "      <td>3</td>\n",
              "      <td>f</td>\n",
              "      <td>07/26/1929</td>\n",
              "      <td>12</td>\n",
              "      <td>1</td>\n",
              "      <td>21450</td>\n",
              "      <td>16725.0</td>\n",
              "      <td>12000</td>\n",
              "      <td>98</td>\n",
              "      <td>381</td>\n",
              "      <td>0</td>\n",
              "    </tr>\n",
              "    <tr>\n",
              "      <th>1</th>\n",
              "      <td>4</td>\n",
              "      <td>f</td>\n",
              "      <td>04/15/1947</td>\n",
              "      <td>8</td>\n",
              "      <td>1</td>\n",
              "      <td>21900</td>\n",
              "      <td>17550.0</td>\n",
              "      <td>13200</td>\n",
              "      <td>98</td>\n",
              "      <td>190</td>\n",
              "      <td>0</td>\n",
              "    </tr>\n",
              "    <tr>\n",
              "      <th>2</th>\n",
              "      <td>8</td>\n",
              "      <td>f</td>\n",
              "      <td>1966-06-05 00:00:00</td>\n",
              "      <td>12</td>\n",
              "      <td>1</td>\n",
              "      <td>21900</td>\n",
              "      <td>15825.0</td>\n",
              "      <td>9750</td>\n",
              "      <td>98</td>\n",
              "      <td>0</td>\n",
              "      <td>0</td>\n",
              "    </tr>\n",
              "    <tr>\n",
              "      <th>3</th>\n",
              "      <td>9</td>\n",
              "      <td>f</td>\n",
              "      <td>01/23/1946</td>\n",
              "      <td>15</td>\n",
              "      <td>1</td>\n",
              "      <td>27900</td>\n",
              "      <td>20325.0</td>\n",
              "      <td>12750</td>\n",
              "      <td>98</td>\n",
              "      <td>115</td>\n",
              "      <td>0</td>\n",
              "    </tr>\n",
              "    <tr>\n",
              "      <th>4</th>\n",
              "      <td>10</td>\n",
              "      <td>f</td>\n",
              "      <td>02/13/1946</td>\n",
              "      <td>12</td>\n",
              "      <td>1</td>\n",
              "      <td>24000</td>\n",
              "      <td>18750.0</td>\n",
              "      <td>13500</td>\n",
              "      <td>98</td>\n",
              "      <td>244</td>\n",
              "      <td>0</td>\n",
              "    </tr>\n",
              "  </tbody>\n",
              "</table>\n",
              "</div>"
            ],
            "text/plain": [
              "   ID Gender           Birth Date  ...  Job Time  Prev Exep  Minority\n",
              "0   3      f           07/26/1929  ...        98        381         0\n",
              "1   4      f           04/15/1947  ...        98        190         0\n",
              "2   8      f  1966-06-05 00:00:00  ...        98          0         0\n",
              "3   9      f           01/23/1946  ...        98        115         0\n",
              "4  10      f           02/13/1946  ...        98        244         0\n",
              "\n",
              "[5 rows x 11 columns]"
            ]
          },
          "metadata": {
            "tags": []
          },
          "execution_count": 29
        }
      ]
    },
    {
      "cell_type": "code",
      "metadata": {
        "id": "objHBsWFSlzo",
        "colab_type": "code",
        "colab": {
          "base_uri": "https://localhost:8080/",
          "height": 34
        },
        "outputId": "dec7ea74-944b-4624-8f96-659ecaf16926"
      },
      "source": [
        "dataset[\"CurrentSalary\"].mean()"
      ],
      "execution_count": 31,
      "outputs": [
        {
          "output_type": "execute_result",
          "data": {
            "text/plain": [
              "34419.56751054852"
            ]
          },
          "metadata": {
            "tags": []
          },
          "execution_count": 31
        }
      ]
    },
    {
      "cell_type": "markdown",
      "metadata": {
        "id": "upQFhP49TmLp",
        "colab_type": "text"
      },
      "source": [
        "Average salary of Employees are 34419.56"
      ]
    },
    {
      "cell_type": "code",
      "metadata": {
        "id": "ClyD801bS0-9",
        "colab_type": "code",
        "colab": {
          "base_uri": "https://localhost:8080/",
          "height": 34
        },
        "outputId": "f290826d-75f1-4d5d-ed18-ec735c37736d"
      },
      "source": [
        "dataset[\"CurrentSalary\"].median()"
      ],
      "execution_count": 32,
      "outputs": [
        {
          "output_type": "execute_result",
          "data": {
            "text/plain": [
              "28875.0"
            ]
          },
          "metadata": {
            "tags": []
          },
          "execution_count": 32
        }
      ]
    },
    {
      "cell_type": "markdown",
      "metadata": {
        "id": "4JM34mjbTXyE",
        "colab_type": "text"
      },
      "source": [
        "Here Mean > Median"
      ]
    },
    {
      "cell_type": "code",
      "metadata": {
        "id": "1EizlNtGTf0X",
        "colab_type": "code",
        "colab": {
          "base_uri": "https://localhost:8080/",
          "height": 51
        },
        "outputId": "05ea05cf-8ffa-47f7-9a14-40f840530a5d"
      },
      "source": [
        "dataset[\"CurrentSalary\"].mode()"
      ],
      "execution_count": 33,
      "outputs": [
        {
          "output_type": "execute_result",
          "data": {
            "text/plain": [
              "0    30750\n",
              "dtype: int64"
            ]
          },
          "metadata": {
            "tags": []
          },
          "execution_count": 33
        }
      ]
    },
    {
      "cell_type": "markdown",
      "metadata": {
        "id": "xEng-84LT4QH",
        "colab_type": "text"
      },
      "source": [
        "Most repeated salary is 30750"
      ]
    },
    {
      "cell_type": "code",
      "metadata": {
        "id": "hP9EOD3XT8d6",
        "colab_type": "code",
        "colab": {
          "base_uri": "https://localhost:8080/",
          "height": 34
        },
        "outputId": "81c4aa7f-ef79-4134-a602-536e14631e1a"
      },
      "source": [
        "dataset[\"CurrentSalary\"].std()"
      ],
      "execution_count": 34,
      "outputs": [
        {
          "output_type": "execute_result",
          "data": {
            "text/plain": [
              "17075.66146458606"
            ]
          },
          "metadata": {
            "tags": []
          },
          "execution_count": 34
        }
      ]
    },
    {
      "cell_type": "code",
      "metadata": {
        "id": "wE4vzUWqUJa3",
        "colab_type": "code",
        "colab": {
          "base_uri": "https://localhost:8080/",
          "height": 34
        },
        "outputId": "c6a32087-2bcb-43d4-8b33-c54a3d51b772"
      },
      "source": [
        "dataset[\"CurrentSalary\"].var()"
      ],
      "execution_count": 35,
      "outputs": [
        {
          "output_type": "execute_result",
          "data": {
            "text/plain": [
              "291578214.45314944"
            ]
          },
          "metadata": {
            "tags": []
          },
          "execution_count": 35
        }
      ]
    },
    {
      "cell_type": "markdown",
      "metadata": {
        "id": "ECcXZlWdUcke",
        "colab_type": "text"
      },
      "source": [
        "Here we find that Std()is high so it has low consistency in data.\n",
        "var() is also high so it so varition in data"
      ]
    },
    {
      "cell_type": "code",
      "metadata": {
        "id": "fQV3mpZJUz1r",
        "colab_type": "code",
        "colab": {
          "base_uri": "https://localhost:8080/",
          "height": 34
        },
        "outputId": "b7f1be0b-967f-4b01-c647-d448a0571b9b"
      },
      "source": [
        "dataset['CurrentSalary'].skew()"
      ],
      "execution_count": 36,
      "outputs": [
        {
          "output_type": "execute_result",
          "data": {
            "text/plain": [
              "2.1246062823682506"
            ]
          },
          "metadata": {
            "tags": []
          },
          "execution_count": 36
        }
      ]
    },
    {
      "cell_type": "markdown",
      "metadata": {
        "id": "dDTQR8lkU8xI",
        "colab_type": "text"
      },
      "source": [
        "Skewness is help us to find Synemtric distribution in data.\n",
        "Here skew()we got 2.12 positive value\n",
        "Mean>Meadian which show our skewness of data is positive towars right side towards."
      ]
    },
    {
      "cell_type": "code",
      "metadata": {
        "id": "8fK7XO5UVWC7",
        "colab_type": "code",
        "colab": {
          "base_uri": "https://localhost:8080/",
          "height": 34
        },
        "outputId": "bc549eee-fc7c-4a9b-ed71-bd5338b35830"
      },
      "source": [
        "dataset['CurrentSalary'].kurt()"
      ],
      "execution_count": 37,
      "outputs": [
        {
          "output_type": "execute_result",
          "data": {
            "text/plain": [
              "5.377822396136782"
            ]
          },
          "metadata": {
            "tags": []
          },
          "execution_count": 37
        }
      ]
    },
    {
      "cell_type": "markdown",
      "metadata": {
        "id": "LdFphohoVgmo",
        "colab_type": "text"
      },
      "source": [
        "It is positive in number.\n",
        "it is highpeak curtoisis which is called Leptocritic."
      ]
    },
    {
      "cell_type": "code",
      "metadata": {
        "id": "kA6UXh0aVutX",
        "colab_type": "code",
        "colab": {
          "base_uri": "https://localhost:8080/",
          "height": 404
        },
        "outputId": "40e50921-ba7f-4445-d587-552ed476fe34"
      },
      "source": [
        "import matplotlib.pyplot as plt\n",
        "plt.boxplot(dataset['CurrentSalary'])"
      ],
      "execution_count": 39,
      "outputs": [
        {
          "output_type": "execute_result",
          "data": {
            "text/plain": [
              "{'boxes': [<matplotlib.lines.Line2D at 0x7fe7e87e2470>],\n",
              " 'caps': [<matplotlib.lines.Line2D at 0x7fe7e87e2e80>,\n",
              "  <matplotlib.lines.Line2D at 0x7fe7e87f9240>],\n",
              " 'fliers': [<matplotlib.lines.Line2D at 0x7fe7e87f9940>],\n",
              " 'means': [],\n",
              " 'medians': [<matplotlib.lines.Line2D at 0x7fe7e87f95c0>],\n",
              " 'whiskers': [<matplotlib.lines.Line2D at 0x7fe7e87e2780>,\n",
              "  <matplotlib.lines.Line2D at 0x7fe7e87e2b00>]}"
            ]
          },
          "metadata": {
            "tags": []
          },
          "execution_count": 39
        },
        {
          "output_type": "display_data",
          "data": {
            "image/png": "[encoded data removed]",
            "text/plain": [
              "<Figure size 432x288 with 1 Axes>"
            ]
          },
          "metadata": {
            "tags": [],
            "needs_background": "light"
          }
        }
      ]
    },
    {
      "cell_type": "markdown",
      "metadata": {
        "id": "jOdnZygfWG8Z",
        "colab_type": "text"
      },
      "source": [
        "Box plot is used to find the outliers.\n",
        "here we can see that there is so many outliers in this data."
      ]
    },
    {
      "cell_type": "code",
      "metadata": {
        "id": "kV6ohnv0WY7K",
        "colab_type": "code",
        "colab": {
          "base_uri": "https://localhost:8080/",
          "height": 282
        },
        "outputId": "559bf986-9cf5-4789-c2a0-ecb68dfbcb63"
      },
      "source": [
        "plt.scatter(dataset['CurrentSalary'],dataset['After6Months'])"
      ],
      "execution_count": 42,
      "outputs": [
        {
          "output_type": "execute_result",
          "data": {
            "text/plain": [
              "<matplotlib.collections.PathCollection at 0x7fe7e8affd30>"
            ]
          },
          "metadata": {
            "tags": []
          },
          "execution_count": 42
        },
        {
          "output_type": "display_data",
          "data": {
            "image/png": "[encoded data removed]",
            "text/plain": [
              "<Figure size 432x288 with 1 Axes>"
            ]
          },
          "metadata": {
            "tags": [],
            "needs_background": "light"
          }
        }
      ]
    }
  ]
}